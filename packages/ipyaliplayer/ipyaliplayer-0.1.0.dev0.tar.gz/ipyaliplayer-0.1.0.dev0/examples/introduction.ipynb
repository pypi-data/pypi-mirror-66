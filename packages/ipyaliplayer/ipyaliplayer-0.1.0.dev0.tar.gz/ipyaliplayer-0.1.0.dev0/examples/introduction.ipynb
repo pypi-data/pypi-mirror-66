{
 "cells": [
  {
   "cell_type": "markdown",
   "metadata": {},
   "source": [
    "# Introduction"
   ]
  },
  {
   "cell_type": "code",
   "execution_count": 20,
   "metadata": {},
   "outputs": [
    {
     "data": {
      "application/vnd.jupyter.widget-view+json": {
       "model_id": "c608f92c511945da9d62383eb0eb14e0",
       "version_major": 2,
       "version_minor": 0
      },
      "text/plain": [
       "Player(value='27e0590db52c434c8d49cc7678682198')"
      ]
     },
     "metadata": {},
     "output_type": "display_data"
    }
   ],
   "source": [
    "from ipyaliplayer import Player\n",
    "player = Player(vid='27e0590db52c434c8d49cc7678682198', width=640, height=400)\n",
    "player"
   ]
  },
  {
   "cell_type": "code",
   "execution_count": null,
   "metadata": {},
   "outputs": [],
   "source": []
  },
  {
   "cell_type": "code",
   "execution_count": null,
   "metadata": {},
   "outputs": [],
   "source": []
  }
 ],
 "metadata": {
  "kernelspec": {
   "display_name": "Python 3",
   "language": "python",
   "name": "python3"
  },
  "language_info": {
   "codemirror_mode": {
    "name": "ipython",
    "version": 3
   },
   "file_extension": ".py",
   "mimetype": "text/x-python",
   "name": "python",
   "nbconvert_exporter": "python",
   "pygments_lexer": "ipython3",
   "version": "3.7.6"
  }
 },
 "nbformat": 4,
 "nbformat_minor": 2
}
