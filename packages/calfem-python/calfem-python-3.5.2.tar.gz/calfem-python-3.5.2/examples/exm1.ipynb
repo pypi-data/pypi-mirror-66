{
 "cells": [
  {
   "cell_type": "markdown",
   "metadata": {},
   "source": [
    "# Example 1"
   ]
  },
  {
   "cell_type": "markdown",
   "metadata": {},
   "source": [
    "Shows how to create simple geometry from splines and ellipse arcs, and how to mesh a quad mesh in GmshMesher. Also demonstrates drawGeometry(), drawMesh, and drawing texts and labels in a figure."
   ]
  },
  {
   "cell_type": "code",
   "execution_count": 1,
   "metadata": {},
   "outputs": [],
   "source": [
    "import calfem.geometry as cfg\n",
    "import calfem.mesh as cfm\n",
    "import calfem.vis_mpl as cfv"
   ]
  },
  {
   "cell_type": "markdown",
   "metadata": {},
   "source": [
    "## Define geometry"
   ]
  },
  {
   "cell_type": "markdown",
   "metadata": {},
   "source": [
    "Create geometry object."
   ]
  },
  {
   "cell_type": "code",
   "execution_count": 2,
   "metadata": {},
   "outputs": [],
   "source": [
    "g = cfg.Geometry()"
   ]
  },
  {
   "cell_type": "markdown",
   "metadata": {},
   "source": [
    "### Add points to geometry object.\n",
    "\n",
    "The first parameter is the coordinates. These can be in 2D or 3D. The other parameters are not defined in this example. These parameters are ID, marker, and elSize.\n",
    "Since we do not specify an ID the points are automatically assigned IDs, starting from 0."
   ]
  },
  {
   "cell_type": "code",
   "execution_count": 3,
   "metadata": {},
   "outputs": [],
   "source": [
    "g.point([0, 0])\n",
    "g.point([2, 0])\n",
    "g.point([2, 1])\n",
    "g.point([0, 1])\n",
    "g.point([0.5, 0.3])\n",
    "g.point([0.3, 0.7])\n",
    "g.point([0.7, 0.7])\n",
    "g.point([0.8, 0.5])\n",
    "g.point([1.7, 0.5])\n",
    "g.point([1.5, 0.5])\n",
    "g.point([1.7, 0.7])"
   ]
  },
  {
   "cell_type": "markdown",
   "metadata": {},
   "source": [
    "### Add curves"
   ]
  },
  {
   "cell_type": "markdown",
   "metadata": {},
   "source": [
    "There are four types of curves. In this example we create an ellipse arc and some splines. The first parameter is a list of point IDs that define the curve. Curves can have have IDs and markers. In this example the IDs are undefined so the curves are automatically assigned IDs. The markers can be used for identifying regions/boundaries in the model."
   ]
  },
  {
   "cell_type": "code",
   "execution_count": 4,
   "metadata": {},
   "outputs": [],
   "source": [
    "g.ellipse([7, 8, 9, 10], marker=50)\n",
    "\n",
    "g.spline([0, 1], marker=80)           # 1 - A spline. Splines pass through the\n",
    "                                      #     points in the first parameter.\n",
    "g.spline([2, 1])                      # 2\n",
    "g.spline([3, 2])                      # 3\n",
    "g.spline([0, 3])                      # 4\n",
    "g.spline([7, 9], marker=50)           # 5\n",
    "g.spline([10, 9])                     # 6\n",
    "g.spline([4, 5, 6, 4])                # 7 - This is a closed spline.\n",
    "                                      #     The start and end points are the same"
   ]
  },
  {
   "cell_type": "markdown",
   "metadata": {},
   "source": [
    "### Add a surface\n",
    "\n",
    "Surfaces are defined by its curve boundaries. The first parameter is a list of curve IDs that specify the outer boundary of the surface. The second parameter is a list of lists of curve IDs that specify holes in the surface. In this example there are two holes. The boundaries and holes must be closed paths. We can see that [7] is closed because curve 7 is a closed spline. addSurface creates a flat surface, so all curves must lie on the same plane."
   ]
  },
  {
   "cell_type": "code",
   "execution_count": 5,
   "metadata": {},
   "outputs": [],
   "source": [
    "g.surface([4, 3, 2, 1], [[7], [5, 6, 0]])"
   ]
  },
  {
   "cell_type": "markdown",
   "metadata": {},
   "source": [
    "## Generate mesh\n",
    "\n",
    "### Define mesh properties"
   ]
  },
  {
   "cell_type": "code",
   "execution_count": 6,
   "metadata": {},
   "outputs": [],
   "source": [
    "mesh = cfm.GmshMesh(g)"
   ]
  },
  {
   "cell_type": "markdown",
   "metadata": {},
   "source": [
    "Element type 3 is quad. 2 is triangle. See user manual for more element types)"
   ]
  },
  {
   "cell_type": "code",
   "execution_count": 7,
   "metadata": {},
   "outputs": [],
   "source": [
    "mesh.el_type = 3\n",
    "mesh.dofs_per_node = 1  # Degrees of freedom per node.\n",
    "mesh.el_size_factor = 0.05  # Factor that changes element sizes."
   ]
  },
  {
   "cell_type": "markdown",
   "metadata": {},
   "source": [
    "### Create mesh \n",
    "\n",
    "The first four return values are the same as those that trimesh2d() returns. coords is as list of node coordinates. edof is the element topology (element degrees of freedom). dofs is a lists of all degrees of freedom bdofs is a dictionary of boundary dofs (dofs of geometric entities with markers). elementmarkers is a list of markers, and is used for finding the marker of a given element (index)."
   ]
  },
  {
   "cell_type": "code",
   "execution_count": 8,
   "metadata": {},
   "outputs": [],
   "source": [
    "coords, edof, dofs, bdofs, elementmarkers = mesh.create()"
   ]
  },
  {
   "cell_type": "markdown",
   "metadata": {},
   "source": [
    "## Visualise mesh"
   ]
  },
  {
   "cell_type": "markdown",
   "metadata": {},
   "source": [
    "### Draw geometry"
   ]
  },
  {
   "cell_type": "code",
   "execution_count": 9,
   "metadata": {},
   "outputs": [],
   "source": [
    "#%matplotlib notebook\n",
    "#%matplotlib inline\n",
    "%matplotlib widget"
   ]
  },
  {
   "cell_type": "code",
   "execution_count": 10,
   "metadata": {},
   "outputs": [
    {
     "data": {
      "application/vnd.jupyter.widget-view+json": {
       "model_id": "a62951818ba148ad966fc6446737fd51",
       "version_major": 2,
       "version_minor": 0
      },
      "text/plain": [
       "Canvas(toolbar=Toolbar(toolitems=[('Home', 'Reset original view', 'home', 'home'), ('Back', 'Back to previous …"
      ]
     },
     "metadata": {},
     "output_type": "display_data"
    }
   ],
   "source": [
    "cfv.figure(figsize=(10,10))\n",
    "cfv.draw_geometry(g)"
   ]
  },
  {
   "cell_type": "markdown",
   "metadata": {},
   "source": [
    "### Draw mesh"
   ]
  },
  {
   "cell_type": "code",
   "execution_count": 11,
   "metadata": {},
   "outputs": [
    {
     "data": {
      "application/vnd.jupyter.widget-view+json": {
       "model_id": "f342fb41c73d43caa9d98fb017b864a9",
       "version_major": 2,
       "version_minor": 0
      },
      "text/plain": [
       "Canvas(toolbar=Toolbar(toolitems=[('Home', 'Reset original view', 'home', 'home'), ('Back', 'Back to previous …"
      ]
     },
     "metadata": {},
     "output_type": "display_data"
    }
   ],
   "source": [
    "cfv.figure(figsize=(10,10))\n",
    "cfv.draw_mesh(\n",
    "    coords=coords,\n",
    "    edof=edof,\n",
    "    dofs_per_node=mesh.dofs_per_node,\n",
    "    el_type=mesh.el_type,\n",
    "    filled=True,\n",
    "    title=\"Example 01\"\n",
    ")"
   ]
  },
  {
   "cell_type": "code",
   "execution_count": null,
   "metadata": {},
   "outputs": [],
   "source": []
  }
 ],
 "metadata": {
  "kernelspec": {
   "display_name": "Python 3",
   "language": "python",
   "name": "python3"
  },
  "language_info": {
   "codemirror_mode": {
    "name": "ipython",
    "version": 3
   },
   "file_extension": ".py",
   "mimetype": "text/x-python",
   "name": "python",
   "nbconvert_exporter": "python",
   "pygments_lexer": "ipython3",
   "version": "3.7.4"
  }
 },
 "nbformat": 4,
 "nbformat_minor": 4
}
