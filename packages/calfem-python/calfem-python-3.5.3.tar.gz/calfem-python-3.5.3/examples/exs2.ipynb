{
 "cells": [
  {
   "cell_type": "markdown",
   "metadata": {},
   "source": [
    "# Example exs2\n",
    "\n",
    "Analysis of one dimensional heat flow."
   ]
  },
  {
   "cell_type": "code",
   "execution_count": 1,
   "metadata": {},
   "outputs": [],
   "source": [
    "import numpy as np\n",
    "import calfem.core as cfc"
   ]
  },
  {
   "cell_type": "markdown",
   "metadata": {},
   "source": [
    "## Topology matrix Edof"
   ]
  },
  {
   "cell_type": "code",
   "execution_count": 2,
   "metadata": {},
   "outputs": [],
   "source": [
    "Edof = np.array([\n",
    "    [1,2],\n",
    "    [2,3],\n",
    "    [3,4],\n",
    "    [4,5],\n",
    "    [5,6]\n",
    "])"
   ]
  },
  {
   "cell_type": "markdown",
   "metadata": {},
   "source": [
    "## Stiffness matrix K and vector f"
   ]
  },
  {
   "cell_type": "code",
   "execution_count": 3,
   "metadata": {},
   "outputs": [],
   "source": [
    "K = np.mat(np.zeros((6,6)))\n",
    "f = np.mat(np.zeros((6,1)))\n",
    "f[3] = 10.0"
   ]
  },
  {
   "cell_type": "markdown",
   "metadata": {},
   "source": [
    "## Element properties"
   ]
  },
  {
   "cell_type": "code",
   "execution_count": 4,
   "metadata": {},
   "outputs": [],
   "source": [
    "ep1 = 25.0\n",
    "ep2 = 24.3\n",
    "ep3 = 0.4\n",
    "ep4 = 17.0\n",
    "ep5 = 7.7"
   ]
  },
  {
   "cell_type": "markdown",
   "metadata": {},
   "source": [
    "## Element stiffness matrices"
   ]
  },
  {
   "cell_type": "code",
   "execution_count": 5,
   "metadata": {},
   "outputs": [],
   "source": [
    "Ke1 = cfc.spring1e(ep1)\n",
    "Ke2 = cfc.spring1e(ep2)\n",
    "Ke3 = cfc.spring1e(ep3)\n",
    "Ke4 = cfc.spring1e(ep4)\n",
    "Ke5 = cfc.spring1e(ep5)"
   ]
  },
  {
   "cell_type": "markdown",
   "metadata": {},
   "source": [
    "## Assemble Ke into K"
   ]
  },
  {
   "cell_type": "code",
   "execution_count": 6,
   "metadata": {},
   "outputs": [
    {
     "name": "stdout",
     "output_type": "stream",
     "text": [
      "Stiffness matrix K:\n",
      "[[ 25.  -25.    0.    0.    0.    0. ]\n",
      " [-25.   49.3 -24.3   0.    0.    0. ]\n",
      " [  0.  -24.3  24.7  -0.4   0.    0. ]\n",
      " [  0.    0.   -0.4  17.4 -17.    0. ]\n",
      " [  0.    0.    0.  -17.   24.7  -7.7]\n",
      " [  0.    0.    0.    0.   -7.7   7.7]]\n"
     ]
    }
   ],
   "source": [
    "cfc.assem(Edof[0,:], K, Ke1)\n",
    "cfc.assem(Edof[1,:], K, Ke2) \n",
    "cfc.assem(Edof[2,:], K, Ke3)\n",
    "cfc.assem(Edof[3,:], K, Ke4)\n",
    "cfc.assem(Edof[4,:], K, Ke5)\n",
    "\n",
    "print(\"Stiffness matrix K:\")\n",
    "print(K)"
   ]
  },
  {
   "cell_type": "markdown",
   "metadata": {},
   "source": [
    "## Solve the system of equations"
   ]
  },
  {
   "cell_type": "code",
   "execution_count": 7,
   "metadata": {},
   "outputs": [
    {
     "name": "stdout",
     "output_type": "stream",
     "text": [
      "Displacements a:\n",
      "[[-17.        ]\n",
      " [-16.43842455]\n",
      " [-15.86067203]\n",
      " [ 19.23779344]\n",
      " [ 19.47540439]\n",
      " [ 20.        ]]\n",
      "Reaction forces r:\n",
      "[[-1.40393862e+01]\n",
      " [-5.68434189e-14]\n",
      " [ 0.00000000e+00]\n",
      " [ 0.00000000e+00]\n",
      " [ 0.00000000e+00]\n",
      " [ 4.03938619e+00]]\n"
     ]
    }
   ],
   "source": [
    "bc = np.array([1,6])\n",
    "bcVal = np.array([-17.0, 20.0])\n",
    "a,r = cfc.solveq(K, f, bc, bcVal)\n",
    "\n",
    "print(\"Displacements a:\")\n",
    "print(a)\n",
    "\n",
    "print(\"Reaction forces r:\")\n",
    "print(r)"
   ]
  },
  {
   "cell_type": "markdown",
   "metadata": {},
   "source": []
  }
 ],
 "metadata": {
  "kernelspec": {
   "display_name": "Python 3",
   "language": "python",
   "name": "python3"
  },
  "language_info": {
   "codemirror_mode": {
    "name": "ipython",
    "version": 3
   },
   "file_extension": ".py",
   "mimetype": "text/x-python",
   "name": "python",
   "nbconvert_exporter": "python",
   "pygments_lexer": "ipython3",
   "version": "3.7.3"
  }
 },
 "nbformat": 4,
 "nbformat_minor": 2
}
