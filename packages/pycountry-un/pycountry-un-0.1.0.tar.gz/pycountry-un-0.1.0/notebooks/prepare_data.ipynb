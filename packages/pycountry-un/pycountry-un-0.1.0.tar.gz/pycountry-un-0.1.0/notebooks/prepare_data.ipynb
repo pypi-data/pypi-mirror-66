{
 "cells": [
  {
   "cell_type": "code",
   "execution_count": 56,
   "metadata": {},
   "outputs": [],
   "source": [
    "import pycountry\n",
    "\n",
    "def codes(values):\n",
    "    codes = set()\n",
    "    for c in values:\n",
    "        try:\n",
    "            country = pycountry.countries.lookup(c)\n",
    "        except LookupError:\n",
    "            country = pycountry.countries.search_fuzzy(c)[0]\n",
    "        codes.add(country.alpha_3)\n",
    "        \n",
    "    print(codes)"
   ]
  },
  {
   "cell_type": "code",
   "execution_count": 117,
   "metadata": {},
   "outputs": [
    {
     "data": {
      "text/plain": [
       "[Country(alpha_2='CG', alpha_3='COG', name='Congo', numeric='178', official_name='Republic of the Congo'),\n",
       " Country(alpha_2='CD', alpha_3='COD', name='Congo, The Democratic Republic of the', numeric='180')]"
      ]
     },
     "execution_count": 117,
     "metadata": {},
     "output_type": "execute_result"
    }
   ],
   "source": [
    "pycountry.countries.search_fuzzy('Congo')"
   ]
  },
  {
   "cell_type": "code",
   "execution_count": 44,
   "metadata": {},
   "outputs": [
    {
     "name": "stdout",
     "output_type": "stream",
     "text": [
      "{'CAN', 'USA'}\n"
     ]
    }
   ],
   "source": [
    "# North America\n",
    "codes({\"Canada\", \"United States\"})"
   ]
  },
  {
   "cell_type": "code",
   "execution_count": 45,
   "metadata": {},
   "outputs": [
    {
     "name": "stdout",
     "output_type": "stream",
     "text": [
      "{'AUS', 'NZL', 'JPN'}\n"
     ]
    }
   ],
   "source": [
    "# Developed Asia and Pacific \n",
    "codes({\"Australia\", \"Japan\", \"New Zealand\"})"
   ]
  },
  {
   "cell_type": "code",
   "execution_count": 46,
   "metadata": {},
   "outputs": [
    {
     "name": "stdout",
     "output_type": "stream",
     "text": [
      "{'DEU', 'ESP', 'GRC', 'PRT', 'SWE', 'IRL', 'DNK', 'AUT', 'LUX', 'NLD', 'FRA', 'FIN', 'BEL', 'GBR', 'ITA'}\n"
     ]
    }
   ],
   "source": [
    "# EU-15\n",
    "codes({\"Austria\", \"Belgium\", \"Denmark\", \"Finland\", \"France\", \"Germany\", \"Greece\", \"Ireland\", \"Italy\", \"Luxembourg\", \"Netherlands\", \"Portugal\", \"Spain\", \"Sweden\", \"United Kingdom\"})"
   ]
  },
  {
   "cell_type": "code",
   "execution_count": 47,
   "metadata": {},
   "outputs": [
    {
     "name": "stdout",
     "output_type": "stream",
     "text": [
      "{'CYP', 'MLT', 'SVN', 'HRV', 'EST', 'SVK', 'ROU', 'POL', 'HUN', 'CZE', 'LTU', 'BGR', 'LVA'}\n"
     ]
    }
   ],
   "source": [
    "# EU-13\n",
    "codes({\"Bulgaria\", \"Croatia\", \"Cyprus\", \"Czechia\", \"Estonia\", \"Hungary\", \"Latvia\", \"Lithuania\", \"Malta\", \"Poland\", \"Romania\", \"Slovakia\", \"Slovenia\"})"
   ]
  },
  {
   "cell_type": "code",
   "execution_count": 48,
   "metadata": {},
   "outputs": [
    {
     "name": "stdout",
     "output_type": "stream",
     "text": [
      "{'CHE', 'NOR', 'ISL'}\n"
     ]
    }
   ],
   "source": [
    "# Other Europe\n",
    "codes({\"Iceland\", \"Norway\", \"Switzerland\"}) "
   ]
  },
  {
   "cell_type": "code",
   "execution_count": 49,
   "metadata": {},
   "outputs": [
    {
     "name": "stdout",
     "output_type": "stream",
     "text": [
      "{'DEU', 'FRA', 'CAN', 'GBR', 'USA', 'ITA', 'JPN'}\n"
     ]
    }
   ],
   "source": [
    "# G7\n",
    "codes({\"Canada\", \"France\", \"Germany\", \"Italy\", \"Japan\", \"United Kingdom\", \"United States\"})"
   ]
  },
  {
   "cell_type": "code",
   "execution_count": 50,
   "metadata": {},
   "outputs": [
    {
     "name": "stdout",
     "output_type": "stream",
     "text": [
      "{'BIH', 'MNE', 'SRB', 'ALB', 'MKD'}\n"
     ]
    }
   ],
   "source": [
    "# South-Eastern Europe\n",
    "codes({\"Albania\", \"Bosnia and Herzegovina\", \"Montenegro\", \"North Macedonia\", \"Serbia\"})"
   ]
  },
  {
   "cell_type": "code",
   "execution_count": 51,
   "metadata": {},
   "outputs": [
    {
     "name": "stdout",
     "output_type": "stream",
     "text": [
      "{'UZB', 'AZE', 'UKR', 'TKM', 'BLR', 'RUS', 'GEO', 'MDA', 'TJK', 'ARM', 'KGZ', 'KAZ'}\n"
     ]
    }
   ],
   "source": [
    "# Commonwealth of Independent States and Georgia\n",
    "codes({\"Armenia\", \"Azerbaijan\", \"Belarus\", \"Georgia\", \"Kazakhstan\", \"Kyrgyzstan\", \"Republic of Moldova\", \"Russian Federation\", \"Tajikistan\", \"Turkmenistan\", \"Ukraine\", \"Uzbekistan\"})"
   ]
  },
  {
   "cell_type": "code",
   "execution_count": 52,
   "metadata": {},
   "outputs": [
    {
     "name": "stdout",
     "output_type": "stream",
     "text": [
      "{'TUN', 'MRT', 'EGY', 'LBY', 'DZA', 'SDN', 'MAR'}\n"
     ]
    }
   ],
   "source": [
    "# North Africa\n",
    "codes({\"Algeria\", \"Egypt\", \"Libya\", \"Mauritania\", \"Morocco\", \"Sudan\", \"Tunisia\"}) "
   ]
  },
  {
   "cell_type": "code",
   "execution_count": 90,
   "metadata": {},
   "outputs": [
    {
     "name": "stdout",
     "output_type": "stream",
     "text": [
      "{'STP', 'TCD', 'CMR', 'COD', 'GAB', 'CAF', 'GNQ'}\n"
     ]
    }
   ],
   "source": [
    "# Central Africa\n",
    "codes({\"Cameroon\", \"Central African Republic\", \"Chad\", \"Congo, The Democratic Republic of the\", \"Equatorial Guinea\", \"Gabon\", \"Sao Tome and Principe\"}) "
   ]
  },
  {
   "cell_type": "code",
   "execution_count": 59,
   "metadata": {},
   "outputs": [
    {
     "name": "stdout",
     "output_type": "stream",
     "text": [
      "{'SOM', 'UGA', 'MDG', 'DJI', 'BDI', 'ETH', 'COM', 'RWA', 'COG', 'SSD', 'KEN', 'ERI', 'TZA'}\n"
     ]
    }
   ],
   "source": [
    "# East Africa\n",
    "codes({\"Burundi\", \"Comoros\", \"Congo\", \"Djibouti\", \"Eritrea\", \"Ethiopia\", \"Kenya\", \"Madagascar\", \"Rwanda\", \"Somalia\", \"South Sudan\", \"Uganda\", \"United Republic of Tanzania\"}) "
   ]
  },
  {
   "cell_type": "code",
   "execution_count": 60,
   "metadata": {},
   "outputs": [
    {
     "name": "stdout",
     "output_type": "stream",
     "text": [
      "{'LSO', 'MUS', 'SWZ', 'AGO', 'NAM', 'BWA', 'ZMB', 'MOZ', 'ZWE', 'MWI', 'ZAF'}\n"
     ]
    }
   ],
   "source": [
    "# Southern Africa\n",
    "codes({\"Angola\", \"Botswana\", \"Eswatini\", \"Lesotho\", \"Malawi\", \"Mauritius\", \"Mozambique\", \"Namibia\", \"South Africa\", \"Zambia\", \"Zimbabwe\"}) "
   ]
  },
  {
   "cell_type": "code",
   "execution_count": 63,
   "metadata": {},
   "outputs": [
    {
     "name": "stdout",
     "output_type": "stream",
     "text": [
      "{'SLE', 'NER', 'SEN', 'BFA', 'NGA', 'BEN', 'CPV', 'CIV', 'GIN', 'MLI', 'GMB', 'GNB', 'LBR', 'GHA', 'TGO'}\n"
     ]
    }
   ],
   "source": [
    "# West Africa\n",
    "codes({\"Benin\", \"Burkina Faso\", \"Cabo Verde\", \"Côte d'Ivoire\", \"Gambia\", \"Ghana\", \"Guinea\", \"Guinea-Bissau\", \"Liberia\", \"Mali\", \"Niger\", \"Nigeria\", \"Senegal\", \"Sierra Leone\", \"Togo\"}) "
   ]
  },
  {
   "cell_type": "code",
   "execution_count": 70,
   "metadata": {},
   "outputs": [
    {
     "name": "stdout",
     "output_type": "stream",
     "text": [
      "{'VUT', 'PRK', 'TWN', 'KIR', 'BRN', 'PNG', 'TLS', 'IDN', 'SGP', 'MYS', 'PHL', 'VNM', 'SLB', 'MNG', 'MMR', 'THA', 'CHN', 'FJI', 'KHM', 'WSM', 'LAO'}\n"
     ]
    }
   ],
   "source": [
    "# East Asia\n",
    "codes({\"Brunei Darussalam\", \"Cambodia\", \"China\", \"Korea, Democratic People's Republic of\", \"Fiji\", \"Hong Kong SAR\", \"Indonesia\", \"Kiribati\", \"Lao People's Democratic Republic\", \"Malaysia\", \"Mongolia\", \"Myanmar\", \"Papua New Guinea\", \"Philippines\", \"Republic of Korea\", \"Samoa\", \"Singapore\", \"Solomon Islands\", \"Taiwan, Province of China\", \"Thailand\", \"Timor-Leste\", \"Vanuatu\", \"Viet Nam\"}) "
   ]
  },
  {
   "cell_type": "code",
   "execution_count": 72,
   "metadata": {},
   "outputs": [
    {
     "name": "stdout",
     "output_type": "stream",
     "text": [
      "{'IND', 'BTN', 'BGD', 'AFG', 'MDV', 'IRN', 'NPL', 'PAK', 'LKA'}\n"
     ]
    }
   ],
   "source": [
    "# South Asia\n",
    "codes({\"Afghanistan\", \"Bangladesh\", \"Bhutan\", \"India\", \"Iran, Islamic Republic of\", \"Maldives\", \"Nepal\", \"Pakistan\", \"Sri Lanka\"}) "
   ]
  },
  {
   "cell_type": "code",
   "execution_count": 74,
   "metadata": {},
   "outputs": [
    {
     "name": "stdout",
     "output_type": "stream",
     "text": [
      "{'BHR', 'PSE', 'SAU', 'QAT', 'OMN', 'YEM', 'ARE', 'SYR', 'KWT', 'LBN', 'IRQ', 'ISR', 'TUR', 'JOR'}\n"
     ]
    }
   ],
   "source": [
    "# Western Asia\n",
    "codes({\"Bahrain\", \"Iraq\", \"Israel\", \"Jordan\", \"Kuwait\", \"Lebanon\", \"Oman\", \"Qatar\", \"Saudi Arabia\", \"Palestine, State of\", \"Syrian Arab Republic\", \"Turkey\", \"United Arab Emirates\", \"Yemen\"}) "
   ]
  },
  {
   "cell_type": "code",
   "execution_count": 75,
   "metadata": {},
   "outputs": [
    {
     "name": "stdout",
     "output_type": "stream",
     "text": [
      "{'BRB', 'BLZ', 'JAM', 'BHS', 'SUR', 'TTO', 'GUY'}\n"
     ]
    }
   ],
   "source": [
    "# Caribbean\n",
    "codes({\"Bahamas\", \"Barbados\", \"Belize\", \"Guyana\", \"Jamaica\", \"Suriname\", \"Trinidad and Tobago\"}) "
   ]
  },
  {
   "cell_type": "code",
   "execution_count": 76,
   "metadata": {},
   "outputs": [
    {
     "name": "stdout",
     "output_type": "stream",
     "text": [
      "{'MEX', 'HTI', 'CRI', 'HND', 'PAN', 'SLV', 'DOM', 'CUB', 'NIC', 'GTM'}\n"
     ]
    }
   ],
   "source": [
    "# Mexico and Central America\n",
    "codes({\"Costa Rica\", \"Cuba\", \"Dominican Republic\", \"El Salvador\", \"Guatemala\", \"Haiti\", \"Honduras\", \"Mexico\", \"Nicaragua\", \"Panama\"}) "
   ]
  },
  {
   "cell_type": "code",
   "execution_count": 79,
   "metadata": {},
   "outputs": [
    {
     "name": "stdout",
     "output_type": "stream",
     "text": [
      "{'ARG', 'CHL', 'BRA', 'PRY', 'PER', 'VEN', 'ECU', 'COL', 'URY', 'BOL'}\n"
     ]
    }
   ],
   "source": [
    "# South America\n",
    "codes({\"Argentina\", \"Bolivia, Plurinational State of\", \"Brazil\", \"Chile\", \"Colombia\", \"Ecuador\", \"Paraguay\", \"Peru\", \"Uruguay\", \"Venezuela, Bolivarian Republic of\"})"
   ]
  },
  {
   "cell_type": "code",
   "execution_count": 92,
   "metadata": {},
   "outputs": [
    {
     "name": "stdout",
     "output_type": "stream",
     "text": [
      "{'MRT', 'ETH', 'COM', 'SDN', 'GNB', 'ERI', 'BDI', 'DJI', 'SSD', 'LBR', 'SOM', 'MWI', 'TGO', 'SLE', 'STP', 'NER', 'UGA', 'MDG', 'BEN', 'MLI', 'CAF', 'MOZ', 'BFA', 'TZA', 'SEN', 'TCD', 'LSO', 'AGO', 'RWA', 'COD', 'GIN', 'GMB', 'ZMB'}\n"
     ]
    }
   ],
   "source": [
    "# Africa\n",
    "codes({\"Angola\", \"Benin\", \"Burkina Faso\", \"Burundi\", \"Central African Republic\", \"Chad\", \"Comoros\", \"Congo, The Democratic Republic of the\", \"Djibouti\", \"Eritrea\", \"Ethiopia\", \"Gambia\", \"Guinea\", \"Guinea-Bissau\", \"Lesotho\", \"Liberia\", \"Madagascar\", \"Malawi\", \"Mali\", \"Mauritania\", \"Mozambique\", \"Niger\", \"Rwanda\", \"Sao Tome and Principe\", \"Senegal\", \"Sierra Leone\", \"Somalia\", \"South Sudan\", \"Sudan\", \"Togo\", \"Uganda\", \"United Republic of Tanzania\", \"Zambia\"}) "
   ]
  },
  {
   "cell_type": "code",
   "execution_count": 100,
   "metadata": {},
   "outputs": [
    {
     "name": "stdout",
     "output_type": "stream",
     "text": [
      "{'KIR', 'TLS', 'TUV', 'COK', 'VUT', 'SLB', 'KHM', 'LAO', 'MMR'}\n"
     ]
    }
   ],
   "source": [
    "# East Asia\n",
    "codes({\"Cambodia\", \"Kiribati\", \"Lao People's Democratic Republic\", \"Myanmar\", \"Solomon\", \"Islands\", \"Timor-Leste\", \"Tuvalu\", \"Vanuatu\"}) "
   ]
  },
  {
   "cell_type": "code",
   "execution_count": 84,
   "metadata": {},
   "outputs": [
    {
     "name": "stdout",
     "output_type": "stream",
     "text": [
      "{'NPL', 'AFG', 'BTN', 'BGD'}\n"
     ]
    }
   ],
   "source": [
    "# South Asia\n",
    "codes({\"Afghanistan\", \"Bangladesh\", \"Bhutan\", \"Nepal\"}) "
   ]
  },
  {
   "cell_type": "code",
   "execution_count": 85,
   "metadata": {},
   "outputs": [
    {
     "name": "stdout",
     "output_type": "stream",
     "text": [
      "{'YEM'}\n"
     ]
    }
   ],
   "source": [
    "# Western Asia\n",
    "codes({\"Yemen\"})"
   ]
  },
  {
   "cell_type": "code",
   "execution_count": 86,
   "metadata": {},
   "outputs": [
    {
     "name": "stdout",
     "output_type": "stream",
     "text": [
      "{'HTI'}\n"
     ]
    }
   ],
   "source": [
    "# Latin America and the Caribbean\n",
    "codes({\"Haiti\"})"
   ]
  },
  {
   "cell_type": "code",
   "execution_count": 105,
   "metadata": {},
   "outputs": [
    {
     "name": "stdout",
     "output_type": "stream",
     "text": [
      "{'CHL', 'NZL', 'PAN', 'FIN', 'POL', 'KWT', 'BEL', 'PRK', 'AUS', 'TWN', 'DEU', 'PRT', 'NOR', 'BRN', 'ISL', 'IRL', 'BHR', 'ARE', 'CZE', 'BHS', 'ISR', 'GBR', 'LTU', 'ESP', 'URY', 'JPN', 'CYP', 'GRC', 'LVA', 'MLT', 'AUT', 'SGP', 'EST', 'FRA', 'CAN', 'USA', 'TTO', 'HUN', 'ITA', 'BRB', 'CHE', 'SWE', 'SVN', 'DNK', 'LUX', 'SAU', 'SVK', 'OMN', 'NLD', 'CHN', 'QAT', 'HRV'}\n"
     ]
    }
   ],
   "source": [
    "# high_income \n",
    "codes({\"Australia\", \"Austria\", \"Bahamas\", \"Bahrain\", \"Barbados\", \"Belgium\", \"Brunei Darussalam\", \"Canada\", \"Chile\", \"Croatia\", \"Cyprus\", \"Czechia\", \"Denmark\", \"Estonia\", \"Finland\", \"France\", \"Germany\", \"Greece\", \"Hong Kong SAR\", \"Hungary\", \"Iceland\", \"Ireland\", \"Israel\", \"Italy\", \"Japan\", \"Kuwait\", \"Latvia\", \"Lithuania\", \"Luxembourg\", \"Malta\", \"Netherlands\", \"New Zealand\", \"Norway\", \"Oman\", \"Panama\", \"Poland\", \"Portugal\", \"Qatar\", \"Republic of Korea\", \"Saudi Arabia\", \"Singapore\", \"Slovak Republic\", \"Slovenia\", \"Spain\", \"Sweden\", \"Switzerland\", \"Taiwan, Province of China\", \"Trinidad and Tobago\", \"United Arab Emirates\", \"United Kingdom\", \"United States\", \"Uruguay\"})"
   ]
  },
  {
   "cell_type": "code",
   "execution_count": 107,
   "metadata": {},
   "outputs": [
    {
     "name": "stdout",
     "output_type": "stream",
     "text": [
      "{'MNE', 'AZE', 'RUS', 'GNQ', 'GUY', 'KAZ', 'MKD', 'ARG', 'BIH', 'MUS', 'BRA', 'NAM', 'GEO', 'GAB', 'LBN', 'DOM', 'BWA', 'COL', 'SUR', 'TUR', 'ARM', 'TKM', 'MEX', 'JAM', 'MYS', 'PRY', 'MDV', 'ROU', 'SRB', 'BLR', 'ALB', 'ECU', 'CUB', 'LKA', 'GTM', 'THA', 'CRI', 'BLZ', 'LBY', 'IRN', 'PER', 'CHN', 'VEN', 'DZA', 'FJI', 'IRQ', 'BGR', 'WSM', 'JOR', 'ZAF'}\n"
     ]
    }
   ],
   "source": [
    "# upper_middle_income \n",
    "codes({\"Albania\", \"Algeria\", \"Argentina\", \"Armenia\", \"Azerbaijan\", \"Belarus\", \"Belize\", \"Bosnia and Herzegovina\", \"Botswana\", \"Brazil\", \"Bulgaria\", \"China\", \"Colombia\", \"Costa Rica\", \"Cuba\", \"Dominican Republic\", \"Ecuador\", \"Equatorial Guinea\", \"Fiji\", \"Gabon\", \"Georgia\", \"Guatemala\", \"Guyana\", \"Iran, Islamic Republic of\", \"Iraq\", \"Jamaica\", \"Jordan\", \"Kazakhstan\", \"Lebanon\", \"Libya\", \"Malaysia\", \"Maldives\", \"Mauritius\", \"Mexico\", \"Montenegro\", \"Namibia\", \"North Macedonia\", \"Paraguay\", \"Peru\", \"Romania\", \"Russian Federation\", \"Samoa\", \"Serbia\", \"South Africa\", \"Sri Lanka\", \"Suriname\", \"Thailand\", \"Turkey\", \"Turkmenistan\", \"Venezuela, Bolivarian Republic of\"})"
   ]
  },
  {
   "cell_type": "code",
   "execution_count": 113,
   "metadata": {},
   "outputs": [
    {
     "name": "stdout",
     "output_type": "stream",
     "text": [
      "{'MRT', 'BTN', 'CMR', 'PSE', 'LAO', 'COM', 'SLV', 'VUT', 'SDN', 'MAR', 'GHA', 'ZWE', 'KIR', 'DJI', 'CPV', 'UKR', 'KEN', 'PNG', 'IND', 'UZB', 'STP', 'TLS', 'IDN', 'HND', 'PHL', 'NGA', 'COG', 'VNM', 'SLB', 'MDA', 'PAK', 'KGZ', 'MNG', 'MMR', 'TUN', 'SEN', 'BGD', 'LSO', 'EGY', 'SWZ', 'AGO', 'CIV', 'ZMB', 'KHM', 'NIC', 'BOL'}\n"
     ]
    }
   ],
   "source": [
    "# lower_middle_income \n",
    "codes({\"Angola\", \"Bangladesh\", \"Bhutan\", \"Bolivia, Plurinational State of\", \"Cabo Verde\", \"Cambodia\", \"Cameroon\", \"Comoros\", \"Congo\", \"Côte d'Ivoire\", \"Djibouti\", \"Egypt\", \"El Salvador\", \"Eswatini\", \"Ghana\", \"Honduras\", \"India\", \"Indonesia\", \"Kenya\", \"Kiribati\", \"Kyrgyzstan\", \"Lao People's Democratic Republic\", \"Lesotho\", \"Mauritania\", \"Mongolia\", \"Morocco\", \"Myanmar\", \"Nicaragua\", \"Nigeria\", \"Pakistan\", \"Papua New Guinea\", \"Philippines\", \"Republic of Moldova\", \"Sao Tome and Principe\", \"Senegal\", \"Solomon Islands\", \"State of Palestine\", \"Sudan\", \"Timor-Leste\", \"Tunisia\", \"Ukraine\", \"Uzbekistan\", \"Vanuatu\", \"Viet Nam\", \"Zambia\", \"Zimbabwe\"})"
   ]
  },
  {
   "cell_type": "code",
   "execution_count": 118,
   "metadata": {},
   "outputs": [
    {
     "name": "stdout",
     "output_type": "stream",
     "text": [
      "{'HTI', 'ETH', 'COM', 'YEM', 'PRK', 'GNB', 'ERI', 'TJK', 'BDI', 'SYR', 'NPL', 'SSD', 'LBR', 'SOM', 'MWI', 'TGO', 'SLE', 'NER', 'UGA', 'MDG', 'BEN', 'MLI', 'CAF', 'MOZ', 'BFA', 'TZA', 'TCD', 'AFG', 'RWA', 'COD', 'GIN', 'GMB'}\n"
     ]
    }
   ],
   "source": [
    "# low_income \n",
    "codes({\"Afghanistan\", \"Benin\", \"Burkina Faso\", \"Burundi\", \"Central African Republic\", \"Chad\", \"Comoros\", \"Democratic People's Republic of Korea\", \"Congo, The Democratic Republic of the\", \"Eritrea\", \"Ethiopia\", \"Gambia\", \"Guinea\", \"Guinea-Bissau\", \"Haiti\", \"Liberia\", \"Madagascar\", \"Malawi\", \"Mali\", \"Mozambique\", \"Nepal\", \"Niger\", \"Rwanda\", \"Sierra Leone\", \"Somalia\", \"South Sudan\", \"Syrian Arab Republic\", \"Tajikistan\", \"Togo\", \"Uganda\", \"United Republic of Tanzania\", \"Yemen\"})"
   ]
  },
  {
   "cell_type": "code",
   "execution_count": null,
   "metadata": {},
   "outputs": [],
   "source": []
  }
 ],
 "metadata": {
  "kernelspec": {
   "display_name": "Python 3",
   "language": "python",
   "name": "python3"
  },
  "language_info": {
   "codemirror_mode": {
    "name": "ipython",
    "version": 3
   },
   "file_extension": ".py",
   "mimetype": "text/x-python",
   "name": "python",
   "nbconvert_exporter": "python",
   "pygments_lexer": "ipython3",
   "version": "3.8.1"
  }
 },
 "nbformat": 4,
 "nbformat_minor": 4
}
