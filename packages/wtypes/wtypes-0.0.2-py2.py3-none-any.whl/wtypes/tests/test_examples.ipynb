{
 "cells": [
  {
   "cell_type": "code",
   "execution_count": 1,
   "metadata": {},
   "outputs": [],
   "source": [
    "    import hypothesis_jsonschema, genson\n",
    "    from wtypes import *"
   ]
  },
  {
   "cell_type": "code",
   "execution_count": 2,
   "metadata": {},
   "outputs": [],
   "source": [
    "    def test_example_generation():\n",
    "        for type in (Dict, List, String, Integer):\n",
    "            assert isinstance(type.example(), type)"
   ]
  },
  {
   "cell_type": "code",
   "execution_count": 3,
   "metadata": {},
   "outputs": [],
   "source": [
    "    def test_type_from_example():\n",
    "        assert examples.generate_strategy_from_object(\n",
    "            {'a': 1}, {'a': 'abc'}, {}\n",
    "        )._schema\n",
    "        assert examples.generate_strategy_from_object(\n",
    "            {'a': 1}, {'a': 'abc'}\n",
    "        )._schema\n",
    "\n",
    "        assert examples.generate_strategy_from_object(\n",
    "            {'a': 1}, {'a': 'abc'}, Dict[{'b': str}]\n",
    "        )._schema"
   ]
  }
 ],
 "metadata": {
  "kernelspec": {
   "display_name": "Python 3",
   "language": "python",
   "name": "python3"
  },
  "language_info": {
   "codemirror_mode": {
    "name": "ipython",
    "version": 3
   },
   "file_extension": ".py",
   "mimetype": "text/x-python",
   "name": "python",
   "nbconvert_exporter": "python",
   "pygments_lexer": "ipython3",
   "version": "3.7.3"
  }
 },
 "nbformat": 4,
 "nbformat_minor": 4
}
