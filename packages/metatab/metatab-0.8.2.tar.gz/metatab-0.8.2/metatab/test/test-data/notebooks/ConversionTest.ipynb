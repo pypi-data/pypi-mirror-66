{
 "cells": [
  {
   "cell_type": "markdown",
   "metadata": {},
   "source": [
    "# Example Of Notebook Conversion"
   ]
  },
  {
   "cell_type": "markdown",
   "metadata": {},
   "source": [
    "An example of a metatab package, inlined into a Jupyter notebook. "
   ]
  },
  {
   "cell_type": "markdown",
   "metadata": {},
   "source": [
    "Metatab has it's own Notebook conversion process, will will create a Metatab package with the notebook, it's Makrdown and HTML conversion, and the dataset it creates. FOr these conversions, input code cells are by default hidden and must be explicitly re-enabled by starting code cells with `%showinput`\n"
   ]
  },
  {
   "cell_type": "code",
   "execution_count": 1,
   "metadata": {
    "collapsed": true
   },
   "outputs": [],
   "source": [
    "%load_ext autoreload\n",
    "%load_ext metatab\n",
    "%autoreload 2\n",
    "import pandas as pd"
   ]
  },
  {
   "cell_type": "markdown",
   "metadata": {},
   "source": [
    "The Notebook can include inline Metatab, in a line-oriented format. These cells are code cells and start with a `%%metatab` magic. "
   ]
  },
  {
   "cell_type": "code",
   "execution_count": 2,
   "metadata": {
    "collapsed": true
   },
   "outputs": [],
   "source": [
    "%%metatab\n",
    "Identifier: 7108517a-7163-41a5-943d-961f9a086a3f\n",
    "Origin: example.com\n",
    "Dataset: foobar.com \n",
    "\n",
    "Section: Contacts\n",
    "Wrangler: Eric Busboom\n",
    "Wrangler.Email: eric@civicknowledge.com\n",
    "\n",
    "Section: References\n",
    "Reference: http://public.source.civicknowledge.com/example.com/sources/renter_cost.csv\n",
    "Reference.Name: reference\n",
    "Reference.Title: The First Example Data File\n",
    "Reference.Startline: 5\n",
    "Reference.HeaderLines: 3,4\n",
    "    \n",
    "Section: Resources\n",
    "Datafile: http://public.source.civicknowledge.com/example.com/sources/renter_cost.csv\n",
    "Datafile.Name: ext_resource\n",
    "Datafile.Title: An Extern CSV Resource\n",
    "Datafile.Startline: 5\n",
    "Datafile.HeaderLines: 3,4"
   ]
  },
  {
   "cell_type": "markdown",
   "metadata": {},
   "source": [
    "By default, the metatab document is assigned to the variable named `mt_pkg`. This document can be displayed to show the package metadata. "
   ]
  },
  {
   "cell_type": "code",
   "execution_count": 3,
   "metadata": {},
   "outputs": [
    {
     "data": {
      "text/html": [
       "\n",
       "<h1>None</h1>\n",
       "<p>example.com-foobar.com</p>\n",
       "<p>None</p>\n",
       "<p><metatab.generate.TextRowGenerator object at 0x106a4def0></p>\n",
       "<h2>Documentation</h2>\n",
       "\n",
       "<h2>Contacts</h2>\n",
       "\n",
       "<p><strong>Wrangler: </strong><a href=\"mailto:eric@civicknowledge.com\" target=\"_blank\" >Eric Busboom</a> </p>\n",
       "<h2>Resources</h2>\n",
       "<ol>\n",
       "<li><p><strong>ext_resource</strong> - <a target=\"_blank\" href=\"http://public.source.civicknowledge.com/example.com/sources/renter_cost.csv\">http://public.source.civicknowledge.com/example.com/sources/renter_cost.csv</a> </p></li>\n",
       "</ol>\n"
      ]
     },
     "metadata": {},
     "output_type": "execute_result"
    }
   ],
   "source": [
    "mt_pkg"
   ]
  },
  {
   "cell_type": "markdown",
   "metadata": {},
   "source": [
    "Below is a code input cell that will be shown, because it starts with a `%mt_showinput` magic. "
   ]
  },
  {
   "cell_type": "code",
   "execution_count": 4,
   "metadata": {},
   "outputs": [
    {
     "data": {
      "text/html": [
       "<div>\n",
       "<style>\n",
       "    .dataframe thead tr:only-child th {\n",
       "        text-align: right;\n",
       "    }\n",
       "\n",
       "    .dataframe thead th {\n",
       "        text-align: left;\n",
       "    }\n",
       "\n",
       "    .dataframe tbody tr th {\n",
       "        vertical-align: top;\n",
       "    }\n",
       "</style>\n",
       "<table border=\"1\" class=\"dataframe\">\n",
       "  <thead>\n",
       "    <tr style=\"text-align: right;\">\n",
       "      <th></th>\n",
       "      <th>id</th>\n",
       "      <th>gvid</th>\n",
       "      <th>renter_cost_gt_30</th>\n",
       "      <th>renter_cost_gt_30_cv</th>\n",
       "      <th>owner_cost_gt_30_pct</th>\n",
       "      <th>owner_cost_gt_30_pct_cv</th>\n",
       "    </tr>\n",
       "  </thead>\n",
       "  <tbody>\n",
       "    <tr>\n",
       "      <th>0</th>\n",
       "      <td>1</td>\n",
       "      <td>0O0P01</td>\n",
       "      <td>1447</td>\n",
       "      <td>13.617607</td>\n",
       "      <td>42.248175</td>\n",
       "      <td>8.272141</td>\n",
       "    </tr>\n",
       "    <tr>\n",
       "      <th>1</th>\n",
       "      <td>2</td>\n",
       "      <td>0O0P03</td>\n",
       "      <td>5581</td>\n",
       "      <td>6.235932</td>\n",
       "      <td>49.280353</td>\n",
       "      <td>4.933369</td>\n",
       "    </tr>\n",
       "    <tr>\n",
       "      <th>2</th>\n",
       "      <td>3</td>\n",
       "      <td>0O0P05</td>\n",
       "      <td>525</td>\n",
       "      <td>17.648159</td>\n",
       "      <td>45.219638</td>\n",
       "      <td>13.288720</td>\n",
       "    </tr>\n",
       "    <tr>\n",
       "      <th>3</th>\n",
       "      <td>4</td>\n",
       "      <td>0O0P07</td>\n",
       "      <td>352</td>\n",
       "      <td>28.061965</td>\n",
       "      <td>47.439353</td>\n",
       "      <td>17.383329</td>\n",
       "    </tr>\n",
       "    <tr>\n",
       "      <th>4</th>\n",
       "      <td>5</td>\n",
       "      <td>0O0P09</td>\n",
       "      <td>1189</td>\n",
       "      <td>11.824215</td>\n",
       "      <td>43.157895</td>\n",
       "      <td>8.916487</td>\n",
       "    </tr>\n",
       "  </tbody>\n",
       "</table>\n",
       "</div>"
      ]
     },
     "metadata": {},
     "output_type": "execute_result"
    }
   ],
   "source": [
    "df = mt_pkg.resource('ext_resource').dataframe()\n",
    "df.head()"
   ]
  },
  {
   "cell_type": "markdown",
   "metadata": {},
   "source": [
    "Dataframes can be added to the metatadata as resources with the `%mt_add_dataframe df2` magic. The `references.dataframe()` methos returns objects of class `MetatabDataframe`, which have `name` and `title` fields that are used in the metadata schemas, and the `MetatabSeries.description` is used for the column description "
   ]
  },
  {
   "cell_type": "code",
   "execution_count": 5,
   "metadata": {
    "collapsed": true
   },
   "outputs": [],
   "source": [
    "df2 = mt_pkg.reference('reference').dataframe()\n",
    "\n",
    "df2.name = 'rent_cost'\n",
    "df2.title = 'This is the Title'\n",
    "\n",
    "df2.id.description = 'Identification'\n",
    "df2.gvid.description = 'Geo ID'\n",
    "df2.renter_cost_gt_30.description = 'Renters with a total cost more than 30% of income'\n",
    "df2.renter_cost_gt_30_cv.description = 'Coefficient of Variation'\n",
    "df2.owner_cost_gt_30_pct.description = 'Owner cost, percentage'\n",
    "df2.owner_cost_gt_30_pct_cv.description = 'Owner cost, coefficient of variation'\n",
    "%mt_add_dataframe df2"
   ]
  },
  {
   "cell_type": "markdown",
   "metadata": {},
   "source": [
    "When the dataframe is added, Metatab extracts its schema and adds it to the metadata. Fetching the resource and displaying it will show the schema in a prettty format"
   ]
  },
  {
   "cell_type": "code",
   "execution_count": 6,
   "metadata": {},
   "outputs": [
    {
     "data": {
      "text/html": [
       "<h3><a name=\"resource-rent_cost\"></a>rent_cost</h3><p><a target=\"_blank\" href=\"ipynb+file:notebooks/example.com-foobar.com.ipynb#df2\">ipynb+file:notebooks/example.com-foobar.com.ipynb#df2</a></p><table>\n",
       "<tr><th>Header</th><th>Type</th><th>Description</th></tr><tr><td>id</td><td>integer</td><td>Identification</td></tr> \n",
       "<tr><td>gvid</td><td>text</td><td>Geo ID</td></tr> \n",
       "<tr><td>renter_cost_gt_30</td><td>integer</td><td>Renters with a total cost more than 30% of income</td></tr> \n",
       "<tr><td>renter_cost_gt_30_cv</td><td>number</td><td>Coefficient of Variation</td></tr> \n",
       "<tr><td>owner_cost_gt_30_pct</td><td>number</td><td>Owner cost, percentage</td></tr> \n",
       "<tr><td>owner_cost_gt_30_pct_cv</td><td>number</td><td>Owner cost, coefficient of variation</td></tr> </table>"
      ]
     },
     "metadata": {},
     "output_type": "execute_result"
    }
   ],
   "source": [
    "mt_pkg.resource('rent_cost')"
   ]
  },
  {
   "cell_type": "code",
   "execution_count": 7,
   "metadata": {
    "collapsed": true
   },
   "outputs": [],
   "source": [
    "int_resource = df2.copy()\n",
    "assert int_resource.renter_cost_gt_30.description == 'Renters with a total cost more than 30% of income'"
   ]
  },
  {
   "cell_type": "markdown",
   "metadata": {},
   "source": [
    "The HTML output will include any images, but unline the default HTML converted, the images are linked as seperate files into the HTML documentation."
   ]
  },
  {
   "cell_type": "code",
   "execution_count": 8,
   "metadata": {},
   "outputs": [
    {
     "data": {
      "image/png": "[encoded data removed]"
     },
     "metadata": {},
     "output_type": "display_data"
    }
   ],
   "source": [
    "%matplotlib inline\n",
    "df2.owner_cost_gt_30_pct.hist(bins=50);"
   ]
  },
  {
   "cell_type": "code",
   "execution_count": 9,
   "metadata": {},
   "outputs": [
    {
     "data": {
      "text/html": [
       "\n",
       "<h1>None</h1>\n",
       "<p>example.com-foobar.com</p>\n",
       "<p>None</p>\n",
       "<p><metatab.generate.TextRowGenerator object at 0x106a4def0></p>\n",
       "<h2>Documentation</h2>\n",
       "\n",
       "<h2>Contacts</h2>\n",
       "\n",
       "<p><strong>Wrangler: </strong><a href=\"mailto:eric@civicknowledge.com\" target=\"_blank\" >Eric Busboom</a> </p>\n",
       "<h2>Resources</h2>\n",
       "<ol>\n",
       "<li><p><strong>ext_resource</strong> - <a target=\"_blank\" href=\"http://public.source.civicknowledge.com/example.com/sources/renter_cost.csv\">http://public.source.civicknowledge.com/example.com/sources/renter_cost.csv</a> </p></li>\n",
       "<li><p><strong>rent_cost</strong> - <a target=\"_blank\" href=\"ipynb+file:notebooks/example.com-foobar.com.ipynb#df2\">ipynb+file:notebooks/example.com-foobar.com.ipynb#df2</a> </p></li>\n",
       "</ol>\n"
      ]
     },
     "metadata": {},
     "output_type": "execute_result"
    }
   ],
   "source": [
    "mt_pkg"
   ]
  },
  {
   "cell_type": "code",
   "execution_count": 10,
   "metadata": {
    "collapsed": true
   },
   "outputs": [],
   "source": [
    "mt_pkg.resource('df_name')"
   ]
  }
 ],
 "metadata": {
  "celltoolbar": "Tags",
  "kernelspec": {
   "display_name": "Python 3",
   "language": "python",
   "name": "python3"
  },
  "language_info": {
   "codemirror_mode": {
    "name": "ipython",
    "version": 3
   },
   "file_extension": ".py",
   "mimetype": "text/x-python",
   "name": "python",
   "nbconvert_exporter": "python",
   "pygments_lexer": "ipython3",
   "version": "3.6.1"
  },
  "varInspector": {
   "cols": {
    "lenName": 16,
    "lenType": 16,
    "lenVar": 40
   },
   "kernels_config": {
    "python": {
     "delete_cmd_postfix": "",
     "delete_cmd_prefix": "del ",
     "library": "var_list.py",
     "varRefreshCmd": "print(var_dic_list())"
    },
    "r": {
     "delete_cmd_postfix": ") ",
     "delete_cmd_prefix": "rm(",
     "library": "var_list.r",
     "varRefreshCmd": "cat(var_dic_list()) "
    }
   },
   "types_to_exclude": [
    "module",
    "function",
    "builtin_function_or_method",
    "instance",
    "_Feature"
   ],
   "window_display": false
  }
 },
 "nbformat": 4,
 "nbformat_minor": 2
}
