{
 "cells": [
  {
   "cell_type": "markdown",
   "metadata": {},
   "source": [
    "# Profiling ANDES in Notebook"
   ]
  },
  {
   "cell_type": "markdown",
   "metadata": {},
   "source": [
    "## Profiling with Python CProfiler"
   ]
  },
  {
   "cell_type": "code",
   "execution_count": 1,
   "metadata": {},
   "outputs": [],
   "source": [
    "import andes\n",
    "from andes.utils.paths import get_case\n",
    "\n",
    "case_path = get_case('kundur/kundur_full.xlsx')"
   ]
  },
  {
   "cell_type": "markdown",
   "metadata": {},
   "source": [
    "Passing `profile=True, no_output = True` to `run` will enable the profiler and have the results printed."
   ]
  },
  {
   "cell_type": "code",
   "execution_count": 2,
   "metadata": {},
   "outputs": [
    {
     "name": "stderr",
     "output_type": "stream",
     "text": [
      "Parsing input file </Users/hcui7/repos/andes/andes/cases/kundur/kundur_full.xlsx>\n",
      "Input file kundur_full.xlsx parsed in 0.0959 second.\n",
      "-> Power flow calculation with Newton Raphson method:\n",
      "Power flow initialized.\n",
      "0: |F(x)| = 14.9283   \n",
      "1: |F(x)| = 3.60859   \n",
      "2: |F(x)| = 0.170093  \n",
      "3: |F(x)| = 0.00203827\n",
      "4: |F(x)| = 3.76414e-07\n",
      "Converged in 5 iterations in 0.0112 second.\n",
      "-> Time Domain Simulation Summary:\n",
      "Sparse Solver: KLU\n",
      "Simulation time: 0.0-20.0s\n",
      "Fixed step size: h=0.03333s\n",
      "Initialization successful in 0.0211 second.\n"
     ]
    },
    {
     "name": "stdout",
     "output_type": "stream",
     "text": [
      "<Toggle 0>: Status of Line.Line_8 changed to 0.0.                     \n",
      "100%|████████████████████████████████| 100/100 [00:02<00:00, 39.32%/s]"
     ]
    },
    {
     "name": "stderr",
     "output_type": "stream",
     "text": [
      "Simulation completed in 2.5435 seconds.\n"
     ]
    },
    {
     "name": "stdout",
     "output_type": "stream",
     "text": [
      "\n",
      "         1690711 function calls (1682641 primitive calls) in 2.769 seconds\n",
      "\n",
      "   Ordered by: cumulative time\n",
      "   List reduced from 1927 to 40 due to restriction <40>\n",
      "\n",
      "   ncalls  tottime  percall  cumtime  percall filename:lineno(function)\n",
      "        1    0.006    0.006    2.607    2.607 /Users/hcui7/repos/andes/andes/routines/tds.py:112(run)\n",
      "      600    0.099    0.000    2.506    0.004 /Users/hcui7/repos/andes/andes/routines/tds.py:197(_implicit_step)\n",
      "    11036    0.125    0.000    1.790    0.000 /Users/hcui7/repos/andes/andes/system.py:692(_call_models_method)\n",
      "     1834    0.001    0.000    0.870    0.000 /Users/hcui7/repos/andes/andes/system.py:432(g_update)\n",
      "    51302    0.435    0.000    0.833    0.000 /Users/hcui7/repos/andes/andes/core/model.py:1152(g_update)\n",
      "     1834    0.001    0.000    0.518    0.000 /Users/hcui7/repos/andes/andes/system.py:422(f_update)\n",
      "    51302    0.332    0.000    0.482    0.000 /Users/hcui7/repos/andes/andes/core/model.py:1127(f_update)\n",
      "     1834    0.004    0.000    0.338    0.000 /Users/hcui7/repos/andes/andes/system.py:406(fg_to_dae)\n",
      "     3668    0.052    0.000    0.334    0.000 /Users/hcui7/repos/andes/andes/system.py:571(_e_to_dae)\n",
      "   117572    0.287    0.000    0.287    0.000 {method 'at' of 'numpy.ufunc' objects}\n",
      "        1    0.000    0.000    0.146    0.146 /Users/hcui7/repos/andes/andes/main.py:210(load)\n",
      "     1834    0.002    0.000    0.117    0.000 /Users/hcui7/repos/andes/andes/system.py:873(e_clear)\n",
      "    54457    0.115    0.000    0.115    0.000 {built-in method numpy.array}\n",
      "21761/16030    0.023    0.000    0.103    0.000 {built-in method numpy.core._multiarray_umath.implement_array_function}\n",
      "     1834    0.001    0.000    0.103    0.000 /Users/hcui7/repos/andes/andes/system.py:389(l_check_eq)\n",
      "        1    0.000    0.000    0.097 "
     ]
    },
    {
     "name": "stderr",
     "output_type": "stream",
     "text": [
      "\n",
      "-> Single process finished in 2.7886 seconds.\n"
     ]
    },
    {
     "name": "stdout",
     "output_type": "stream",
     "text": [
      "   0.097 /Users/hcui7/repos/andes/andes/io/__init__.py:94(parse)\n",
      "        1    0.000    0.000    0.095    0.095 /Users/hcui7/repos/andes/andes/io/xlsx.py:83(read)\n",
      "     1834    0.087    0.000    0.094    0.000 <lambdifygenerated-13>:1(_lambdifygenerated)\n",
      "     1829    0.070    0.000    0.085    0.000 <lambdifygenerated-44>:1(_lambdifygenerated)\n",
      "     1865    0.084    0.000    0.084    0.000 /Users/hcui7/repos/andes/andes/system.py:526(vars_to_models)\n",
      "     1833    0.010    0.000    0.084    0.000 /Users/hcui7/repos/andes/andes/core/solver.py:105(solve)\n",
      "     1834    0.075    0.000    0.081    0.000 <lambdifygenerated-3>:1(_lambdifygenerated)\n",
      "     1834    0.001    0.000    0.080    0.000 /Users/hcui7/repos/andes/andes/system.py:397(l_set_eq)\n",
      "    51302    0.017    0.000    0.078    0.000 /Users/hcui7/repos/andes/andes/core/model.py:638(l_check_eq)\n",
      "    51302    0.075    0.000    0.076    0.000 /Users/hcui7/repos/andes/andes/core/model.py:1328(e_clear)\n",
      "        1    0.000    0.000    0.076    0.076 /Users/hcui7/miniconda3/envs/a/lib/python3.7/site-packages/pandas/io/excel/_base.py:270(read_excel)\n",
      "     1829    0.060    0.000    0.070    0.000 <lambdifygenerated-45>:1(_lambdifygenerated)\n",
      "     1834    0.001    0.000    0.066    0.000 /Users/hcui7/repos/andes/andes/system.py:381(l_update_var)\n",
      "       11    0.005    0.000    0.062    0.006 /Users/hcui7/miniconda3/envs/a/lib/python3.7/site-packages/pandas/core/frame.py:414(__init__)\n",
      "       29    0.003    0.000    0.062    0.002 /Users/hcui7/repos/andes/andes/system.py:442(j_update)\n",
      "     3658    0.049    0.000    0.058    0.000 /Users/hcui7/repos/andes/andes/core/discrete.py:227(check_eq)\n",
      "    51302    0.015    0.000    0.054    0.000 /Users/hcui7/repos/andes/andes/core/model.py:653(l_set_eq)\n",
      "   327799    0.052    0.000    0.052    0.000 {built-in method builtins.getattr}\n",
      "     1833    0.001    0.000    0.049    0.000 /Users/hcui7/repos/andes/andes/core/solver.py:51(_numeric)\n",
      "     1833    0.048    0.000    0.048    0.000 {built-in method cvxoptklu.klu.numeric}\n",
      "      762    0.036    0.000    0.045    0.000 /Users/hcui7/repos/andes/andes/core/model.py:1177(j_update)\n",
      "        1    0.000    0.000    0.045    0.045 /Users/hcui7/miniconda3/envs/a/lib/python3.7/site-packages/pandas/io/excel/_base.py:826(parse)\n",
      "        1    0.000    0.000    0.045    0.045 /Users/hcui7/miniconda3/envs/a/lib/python3.7/site-packages/pandas/io/excel/_base.py:387(parse)\n",
      "    51302    0.018    0.000    0.040    0.000 /Users/hcui7/repos/andes/andes/core/model.py:623(l_update_var)\n",
      "       10    0.000    0.000    0.038    0.004 /Users/hcui7/miniconda3/envs/a/lib/python3.7/site-packages/pandas/io/parsers.py:1131(read)\n",
      "\n",
      "\n"
     ]
    }
   ],
   "source": [
    "ss = andes.run(case_path, profile=True, routine='TDS', no_output=True)"
   ]
  },
  {
   "cell_type": "markdown",
   "metadata": {},
   "source": [
    "## Profiling with `line_profiler`."
   ]
  },
  {
   "cell_type": "markdown",
   "metadata": {},
   "source": [
    "`line_profiler` provides line-based profiling results for functions. \n",
    "\n",
    "Install with `pip install line_profiler` and restart the notebook."
   ]
  },
  {
   "cell_type": "code",
   "execution_count": 3,
   "metadata": {},
   "outputs": [],
   "source": [
    "import andes\n",
    "from andes.utils.paths import get_case\n",
    "\n",
    "case_path = get_case('kundur/kundur_full.xlsx')"
   ]
  },
  {
   "cell_type": "markdown",
   "metadata": {},
   "source": [
    "### Profile power flow "
   ]
  },
  {
   "cell_type": "markdown",
   "metadata": {},
   "source": [
    "Pass the function name to profile to the magic `%lprun`, followed by a call to the function itself or an upper-level function.\n",
    "\n",
    "Results will be shown in a popup window."
   ]
  },
  {
   "cell_type": "code",
   "execution_count": 4,
   "metadata": {},
   "outputs": [
    {
     "name": "stderr",
     "output_type": "stream",
     "text": [
      "Parsing input file </Users/hcui7/repos/andes/andes/cases/kundur/kundur_full.xlsx>\n",
      "Input file kundur_full.xlsx parsed in 0.1169 second.\n",
      "-> Power flow calculation with Newton Raphson method:\n",
      "Power flow initialized.\n",
      "0: |F(x)| = 14.9283   \n",
      "1: |F(x)| = 3.60859   \n",
      "2: |F(x)| = 0.170093  \n",
      "3: |F(x)| = 0.00203827\n",
      "4: |F(x)| = 3.76414e-07\n",
      "Converged in 5 iterations in 0.0123 second.\n",
      "-> Single process finished in 0.1826 second.\n"
     ]
    }
   ],
   "source": [
    "%lprun -f andes.routines.pflow.PFlow.run andes.run(case_path, no_output=True)"
   ]
  },
  {
   "cell_type": "markdown",
   "metadata": {},
   "source": [
    "Alternatively, do"
   ]
  },
  {
   "cell_type": "code",
   "execution_count": 5,
   "metadata": {},
   "outputs": [
    {
     "name": "stderr",
     "output_type": "stream",
     "text": [
      "Parsing input file </Users/hcui7/repos/andes/andes/cases/kundur/kundur_full.xlsx>\n",
      "Input file kundur_full.xlsx parsed in 0.0642 second.\n",
      "-> Power flow calculation with Newton Raphson method:\n",
      "Power flow initialized.\n",
      "0: |F(x)| = 14.9283   \n",
      "1: |F(x)| = 3.60859   \n",
      "2: |F(x)| = 0.170093  \n",
      "3: |F(x)| = 0.00203827\n",
      "4: |F(x)| = 3.76414e-07\n",
      "Converged in 5 iterations in 0.0106 second.\n",
      "-> Single process finished in 0.1099 second.\n"
     ]
    }
   ],
   "source": [
    "ss = andes.run(case_path, no_output=True)"
   ]
  },
  {
   "cell_type": "code",
   "execution_count": 6,
   "metadata": {},
   "outputs": [
    {
     "name": "stderr",
     "output_type": "stream",
     "text": [
      "-> Power flow calculation with Newton Raphson method:\n",
      "Power flow initialized.\n",
      "0: |F(x)| = 14.9283   \n",
      "1: |F(x)| = 3.60859   \n",
      "2: |F(x)| = 0.170093  \n",
      "3: |F(x)| = 0.00203827\n",
      "4: |F(x)| = 3.76414e-07\n",
      "Converged in 5 iterations in 0.0124 second.\n"
     ]
    }
   ],
   "source": [
    "%lprun -f ss.PFlow.run ss.PFlow.run()"
   ]
  },
  {
   "cell_type": "markdown",
   "metadata": {},
   "source": [
    "To dig into the Newton Raphson iteration steps, profile each step instead with:"
   ]
  },
  {
   "cell_type": "code",
   "execution_count": 7,
   "metadata": {},
   "outputs": [
    {
     "name": "stderr",
     "output_type": "stream",
     "text": [
      "-> Power flow calculation with Newton Raphson method:\n",
      "Power flow initialized.\n",
      "0: |F(x)| = 14.9283   \n",
      "1: |F(x)| = 3.60859   \n",
      "2: |F(x)| = 0.170093  \n",
      "3: |F(x)| = 0.00203827\n",
      "4: |F(x)| = 3.76414e-07\n",
      "Converged in 5 iterations in 0.0138 second.\n"
     ]
    }
   ],
   "source": [
    "%lprun -f ss.PFlow.nr_step ss.PFlow.run()"
   ]
  },
  {
   "cell_type": "markdown",
   "metadata": {},
   "source": [
    "### Profile time-domain simulation"
   ]
  },
  {
   "cell_type": "code",
   "execution_count": 8,
   "metadata": {},
   "outputs": [
    {
     "name": "stderr",
     "output_type": "stream",
     "text": [
      "-> Time Domain Simulation Summary:\n",
      "Sparse Solver: KLU\n",
      "Simulation time: 0.0-20.0s\n",
      "Fixed step size: h=0.03333s\n",
      "Initialization successful in 0.0258 second.\n"
     ]
    },
    {
     "name": "stdout",
     "output_type": "stream",
     "text": [
      "<Toggle 0>: Status of Line.Line_8 changed to 0.0.                     \n",
      "100%|████████████████████████████████| 100/100 [00:03<00:00, 31.72%/s]"
     ]
    },
    {
     "name": "stderr",
     "output_type": "stream",
     "text": [
      "Simulation completed in 3.1532 seconds.\n"
     ]
    },
    {
     "name": "stdout",
     "output_type": "stream",
     "text": [
      "\n"
     ]
    }
   ],
   "source": [
    "%lprun -f ss.TDS._implicit_step ss.TDS.run()"
   ]
  },
  {
   "cell_type": "markdown",
   "metadata": {},
   "source": [
    "## Cleanup"
   ]
  },
  {
   "cell_type": "code",
   "execution_count": 9,
   "metadata": {},
   "outputs": [
    {
     "name": "stdout",
     "output_type": "stream",
     "text": [
      "ANDES 0.8.3 (Git commit id 1137236a, Python 3.7.1 on Darwin)\r\n",
      "Session: hcui7, 04/02/2020 06:07:25 PM\r\n",
      "This program comes with ABSOLUTELY NO WARRANTY.\r\n",
      "\r\n",
      "No output file found in the working directory.\r\n"
     ]
    }
   ],
   "source": [
    "!andes misc -C"
   ]
  }
 ],
 "metadata": {
  "kernelspec": {
   "display_name": "Python 3",
   "language": "python",
   "name": "python3"
  },
  "language_info": {
   "codemirror_mode": {
    "name": "ipython",
    "version": 3
   },
   "file_extension": ".py",
   "mimetype": "text/x-python",
   "name": "python",
   "nbconvert_exporter": "python",
   "pygments_lexer": "ipython3",
   "version": "3.7.1"
  }
 },
 "nbformat": 4,
 "nbformat_minor": 4
}
