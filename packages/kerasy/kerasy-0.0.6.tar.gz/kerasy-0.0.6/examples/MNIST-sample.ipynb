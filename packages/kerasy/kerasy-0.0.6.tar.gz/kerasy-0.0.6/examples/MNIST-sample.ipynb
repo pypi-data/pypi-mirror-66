{
 "cells": [
  {
   "cell_type": "markdown",
   "metadata": {},
   "source": [
    "Trains a simple convnet on the MNIST dataset."
   ]
  },
  {
   "cell_type": "code",
   "execution_count": 1,
   "metadata": {},
   "outputs": [],
   "source": [
    "import numpy as np"
   ]
  },
  {
   "cell_type": "code",
   "execution_count": 2,
   "metadata": {},
   "outputs": [],
   "source": [
    "from kerasy.datasets import mnist\n",
    "from kerasy.models import Sequential\n",
    "from kerasy.layers import Dense, Dropout, Flatten, Conv2D, MaxPooling2D, Input\n",
    "from kerasy.utils import CategoricalEncoder"
   ]
  },
  {
   "cell_type": "code",
   "execution_count": 3,
   "metadata": {},
   "outputs": [],
   "source": [
    "batch_size = 128\n",
    "num_classes = 10\n",
    "epochs = 12\n",
    "n_samples = 1000"
   ]
  },
  {
   "cell_type": "code",
   "execution_count": 4,
   "metadata": {},
   "outputs": [],
   "source": [
    "# input image dimensions\n",
    "img_rows, img_cols = 28, 28"
   ]
  },
  {
   "cell_type": "code",
   "execution_count": 5,
   "metadata": {},
   "outputs": [],
   "source": [
    "# the data, split between train and test sets\n",
    "(x_train, y_train), (x_test, y_test) = mnist.load_data()"
   ]
  },
  {
   "cell_type": "code",
   "execution_count": 6,
   "metadata": {},
   "outputs": [],
   "source": [
    "x_train = np.expand_dims(x_train, axis=-1)\n",
    "x_test  = np.expand_dims(x_test,  axis=-1)\n",
    "input_shape = (img_rows, img_cols, 1)"
   ]
  },
  {
   "cell_type": "code",
   "execution_count": 7,
   "metadata": {},
   "outputs": [],
   "source": [
    "x_train = x_train[:n_samples]\n",
    "y_train = y_train[:n_samples]\n",
    "x_test = x_test[:n_samples]\n",
    "y_test = y_test[:n_samples]"
   ]
  },
  {
   "cell_type": "code",
   "execution_count": 8,
   "metadata": {
    "scrolled": true
   },
   "outputs": [
    {
     "name": "stdout",
     "output_type": "stream",
     "text": [
      "x_train shape: (1000, 28, 28, 1)\n",
      "1000 train samples\n",
      "1000 test samples\n"
     ]
    }
   ],
   "source": [
    "x_train = x_train.astype('float32')\n",
    "x_test = x_test.astype('float32')\n",
    "x_train /= 255\n",
    "x_test /= 255\n",
    "print('x_train shape:', x_train.shape)\n",
    "print(x_train.shape[0], 'train samples')\n",
    "print(x_test.shape[0], 'test samples')"
   ]
  },
  {
   "cell_type": "code",
   "execution_count": 9,
   "metadata": {},
   "outputs": [],
   "source": [
    "# convert class vectors to binary class matrices\n",
    "encoder = CategoricalEncoder()\n",
    "y_train = encoder.to_onehot(y_train, num_classes)\n",
    "# y_test  = encoder.to_onehot(y_test, num_classes)"
   ]
  },
  {
   "cell_type": "code",
   "execution_count": 10,
   "metadata": {},
   "outputs": [],
   "source": [
    "keep_prob = 0.5"
   ]
  },
  {
   "cell_type": "code",
   "execution_count": 11,
   "metadata": {},
   "outputs": [],
   "source": [
    "model = Sequential()\n",
    "model.add(Input(input_shape=input_shape))\n",
    "model.add(Conv2D(32, kernel_size=(3, 3),\n",
    "                 activation='relu'))\n",
    "model.add(Conv2D(64, (3, 3), activation='relu'))\n",
    "model.add(MaxPooling2D(pool_size=(2, 2)))\n",
    "model.add(Dropout(0.25))\n",
    "model.add(Flatten())\n",
    "model.add(Dense(128, activation='relu'))\n",
    "model.add(Dropout(keep_prob = keep_prob))\n",
    "model.add(Dense(num_classes, activation='softmax'))"
   ]
  },
  {
   "cell_type": "code",
   "execution_count": 12,
   "metadata": {},
   "outputs": [],
   "source": [
    "model.compile(optimizer='sgd', loss=\"categorical_crossentropy\")"
   ]
  },
  {
   "cell_type": "code",
   "execution_count": 13,
   "metadata": {},
   "outputs": [
    {
     "name": "stdout",
     "output_type": "stream",
     "text": [
      "-----------------------------------------------------------------\n",
      "Layer (type)                 Output Shape              Param #   \n",
      "=================================================================\n",
      "input_1 (Input)              (None, 28, 28, 1)         0.0       \n",
      "-----------------------------------------------------------------\n",
      "conv2d_1 (Conv2D)            (None, 26, 26, 32)        320.0     \n",
      "-----------------------------------------------------------------\n",
      "conv2d_2 (Conv2D)            (None, 24, 24, 64)        18496.0   \n",
      "-----------------------------------------------------------------\n",
      "maxpooling2d_1 (MaxPooling2D (None, 12, 12, 64)        0.0       \n",
      "-----------------------------------------------------------------\n",
      "dropout_1 (Dropout)          (None, 12, 12, 64)        0.0       \n",
      "-----------------------------------------------------------------\n",
      "flatten_1 (Flatten)          (None, 9216)              0.0       \n",
      "-----------------------------------------------------------------\n",
      "dense_1 (Dense)              (None, 128)               1179776.0 \n",
      "-----------------------------------------------------------------\n",
      "dropout_2 (Dropout)          (None, 128)               0.0       \n",
      "-----------------------------------------------------------------\n",
      "dense_2 (Dense)              (None, 10)                1290.0    \n",
      "=================================================================\n",
      "Total params: 1,199,882.0\n",
      "Trainable params: 1,199,882.0\n",
      "Non-trainable params: 0.0\n",
      "-----------------------------------------------------------------\n"
     ]
    }
   ],
   "source": [
    "model.summary()"
   ]
  },
  {
   "cell_type": "code",
   "execution_count": 14,
   "metadata": {},
   "outputs": [
    {
     "name": "stdout",
     "output_type": "stream",
     "text": [
      " Epoch 01/12 | 1000/1000 [####################] 100.00% - 1611.966s  \n",
      " Epoch 02/12 | 1000/1000 [####################] 100.00% - 1424.049s  \n",
      " Epoch 03/12 | 1000/1000 [####################] 100.00% - 1417.398s  \n",
      " Epoch 04/12 | 1000/1000 [####################] 100.00% - 1422.674s  \n",
      " Epoch 05/12 | 1000/1000 [####################] 100.00% - 1426.001s  \n",
      " Epoch 06/12 | 1000/1000 [####################] 100.00% - 1419.967s  \n",
      " Epoch 07/12 | 1000/1000 [####################] 100.00% - 1423.701s  \n",
      " Epoch 08/12 | 1000/1000 [####################] 100.00% - 1419.014s  \n",
      " Epoch 09/12 | 1000/1000 [####################] 100.00% - 1420.943s  \n",
      " Epoch 10/12 | 1000/1000 [####################] 100.00% - 1430.947s  \n",
      " Epoch 11/12 | 1000/1000 [####################] 100.00% - 1418.088s  \n",
      " Epoch 12/12 | 1000/1000 [####################] 100.00% - 1428.189s  \n"
     ]
    }
   ],
   "source": [
    "model.fit(x_train, y_train,\n",
    "          batch_size=batch_size,\n",
    "          epochs=epochs,\n",
    "          verbose=1,\n",
    "          validation_data=(x_test, y_test))"
   ]
  },
  {
   "cell_type": "code",
   "execution_count": 24,
   "metadata": {},
   "outputs": [
    {
     "name": "stdout",
     "output_type": "stream",
     "text": [
      "Accuracy: 9.900%\n"
     ]
    }
   ],
   "source": [
    "print(f\"Accuracy: {100*np.mean(y_test==np.argmax(model.predict(x_test), axis=1)):.3f}%\")"
   ]
  },
  {
   "cell_type": "code",
   "execution_count": 35,
   "metadata": {},
   "outputs": [
    {
     "data": {
      "text/plain": [
       "(26, 26, 32)"
      ]
     },
     "execution_count": 35,
     "metadata": {},
     "output_type": "execute_result"
    }
   ],
   "source": [
    "model.layers[1].forward(x_test[3]).shape"
   ]
  },
  {
   "cell_type": "code",
   "execution_count": 37,
   "metadata": {},
   "outputs": [],
   "source": [
    "import matplotlib.pyplot as plt"
   ]
  },
  {
   "cell_type": "code",
   "execution_count": 48,
   "metadata": {},
   "outputs": [
    {
     "data": {
      "image/png": "[encoded data removed]",
      "text/plain": [
       "<Figure size 432x288 with 11 Axes>"
      ]
     },
     "metadata": {
      "needs_background": "light"
     },
     "output_type": "display_data"
    },
    {
     "data": {
      "image/png": "[encoded data removed]",
      "text/plain": [
       "<Figure size 432x288 with 11 Axes>"
      ]
     },
     "metadata": {
      "needs_background": "light"
     },
     "output_type": "display_data"
    },
    {
     "data": {
      "image/png": "[encoded data removed]",
      "text/plain": [
       "<Figure size 432x288 with 11 Axes>"
      ]
     },
     "metadata": {
      "needs_background": "light"
     },
     "output_type": "display_data"
    }
   ],
   "source": [
    "a = model.layers[1].forward(x_test[3])\n",
    "for i in range(3):\n",
    "    a = model.layers[1].forward(x_test[i])\n",
    "    a = model.layers[2].forward(a)\n",
    "    fig,ax = plt.subplots()\n",
    "    for j in range(10):\n",
    "        ax = fig.add_subplot(1,10,j+1)\n",
    "        ax.imshow(a[:,:,j])\n",
    "plt.tight_layout()\n",
    "plt.show()"
   ]
  },
  {
   "cell_type": "code",
   "execution_count": 49,
   "metadata": {},
   "outputs": [
    {
     "data": {
      "text/plain": [
       "(3, 3, 1)"
      ]
     },
     "execution_count": 49,
     "metadata": {},
     "output_type": "execute_result"
    }
   ],
   "source": [
    "model.layers[1].kernel[:,:,:,0].shape"
   ]
  },
  {
   "cell_type": "code",
   "execution_count": null,
   "metadata": {},
   "outputs": [],
   "source": []
  }
 ],
 "metadata": {
  "hide_input": false,
  "kernelspec": {
   "display_name": "Python 3",
   "language": "python",
   "name": "python3"
  },
  "language_info": {
   "codemirror_mode": {
    "name": "ipython",
    "version": 3
   },
   "file_extension": ".py",
   "mimetype": "text/x-python",
   "name": "python",
   "nbconvert_exporter": "python",
   "pygments_lexer": "ipython3",
   "version": "3.6.8"
  }
 },
 "nbformat": 4,
 "nbformat_minor": 2
}
