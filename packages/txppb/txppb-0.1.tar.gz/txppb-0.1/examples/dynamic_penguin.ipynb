{
 "cells": [
  {
   "cell_type": "markdown",
   "metadata": {},
   "source": [
    "# Interactive PursuedPyBear -- A minimal tutorial\n",
    "\n",
    "Welcome to the interactive PursuedPyBear tutorial,\n",
    "where we will learn to make games bit-by-bit.\n",
    "PursuedPyBear (PPB) is designed to have little\n",
    "unneeded code,\n",
    "sometimes called\n",
    "\"boilerplate\".\n",
    "However, to tie together Jupyter and PPB,\n",
    "we have to have a few uninteresting lines.\n",
    "\n",
    "Bear, um, with us.\n",
    "The following lines are the only boilerplate,\n",
    "just execute the cell\n",
    "(by clicking CTRL-Enter)\n",
    "and move on."
   ]
  },
  {
   "cell_type": "code",
   "execution_count": 1,
   "metadata": {},
   "outputs": [
    {
     "name": "stdout",
     "output_type": "stream",
     "text": [
      "pygame 1.9.6\n",
      "Hello from the pygame community. https://www.pygame.org/contribute.html\n"
     ]
    }
   ],
   "source": [
    "import asyncio\n",
    "from twisted.internet import asyncioreactor\n",
    "asyncioreactor.install(asyncio.get_event_loop())\n",
    "from twisted.internet import reactor\n",
    "import ppb\n",
    "import txppb\n",
    "__file__ = None"
   ]
  },
  {
   "cell_type": "markdown",
   "metadata": {},
   "source": [
    "That's it.\n",
    "Now,\n",
    "I like penguins,\n",
    "so I want to have a penguin character.\n",
    "We have a file called\n",
    "`penguin.png`\n",
    "with a little cute round penguin.\n",
    "\n",
    "PPB uses the class name to find the right image."
   ]
  },
  {
   "cell_type": "code",
   "execution_count": 2,
   "metadata": {},
   "outputs": [],
   "source": [
    "class Penguin(ppb.Sprite):\n",
    "    pass"
   ]
  },
  {
   "cell_type": "markdown",
   "metadata": {},
   "source": [
    "Well, now we have a Penguin class,\n",
    "boring though it may be,\n",
    "we need to make an\n",
    "*instance*\n",
    "of it.\n",
    "\n",
    "PPB thinks in terms of\n",
    "\"scenes\",\n",
    "so we need to set up a scene,\n",
    "with one penguin in it."
   ]
  },
  {
   "cell_type": "code",
   "execution_count": 3,
   "metadata": {},
   "outputs": [],
   "source": [
    "def setup(scene):\n",
    "    scene.add(Penguin(pos=(0, 0)))"
   ]
  },
  {
   "cell_type": "markdown",
   "metadata": {},
   "source": [
    "Now we need to run the\n",
    "\"game loop\".\n",
    "This is the loop that,\n",
    "eventually,\n",
    "will look at user actions\n",
    "and will do stuff to the game.\n",
    "\n",
    "Right now,\n",
    "it will just show a penguin.\n",
    "In the middle of the screen.\n",
    "Just sitting there."
   ]
  },
  {
   "cell_type": "code",
   "execution_count": 4,
   "metadata": {},
   "outputs": [
    {
     "name": "stdout",
     "output_type": "stream",
     "text": [
      "wooohooo\n"
     ]
    },
    {
     "data": {
      "text/plain": [
       "<Deferred at 0x7fe7a40370d0>"
      ]
     },
     "execution_count": 4,
     "metadata": {},
     "output_type": "execute_result"
    }
   ],
   "source": [
    "d = txppb.run(setup, reactor)\n",
    "d.addBoth(print)"
   ]
  },
  {
   "cell_type": "markdown",
   "metadata": {},
   "source": [
    "This is really boring, right?\n",
    "The penguin is just sitting there.\n",
    "\n",
    "Let's make it do something.\n",
    "Maybe go up?\n",
    "But slowly, so we can keep an eye on it."
   ]
  },
  {
   "cell_type": "code",
   "execution_count": 5,
   "metadata": {},
   "outputs": [],
   "source": [
    "Penguin.speed = 0.5\n",
    "def Penguin_on_update(self, update_event, signal):\n",
    "\n",
    "        self.position += (0, self.speed * update_event.time_delta)\n",
    "Penguin.on_update = Penguin_on_update"
   ]
  },
  {
   "cell_type": "markdown",
   "metadata": {},
   "source": [
    "Now, let's make the penguin move down.\n",
    "We just need to change the speed to a negative number.\n",
    "(If you took a while to execute the next cell,\n",
    "and the penguin is off the screen,\n",
    "you will have to wait while it slowly moves back into the\n",
    "visible area.)"
   ]
  },
  {
   "cell_type": "code",
   "execution_count": 6,
   "metadata": {},
   "outputs": [],
   "source": [
    "Penguin.speed = -0.5"
   ]
  },
  {
   "cell_type": "markdown",
   "metadata": {},
   "source": [
    "The penguin is probably tired by now.\n",
    "Let's change speed to 0 so it can stay in place."
   ]
  },
  {
   "cell_type": "code",
   "execution_count": 6,
   "metadata": {},
   "outputs": [],
   "source": [
    "Penguin.speed = 0"
   ]
  }
 ],
 "metadata": {
  "kernelspec": {
   "display_name": "Python 3",
   "language": "python",
   "name": "python3"
  },
  "language_info": {
   "codemirror_mode": {
    "name": "ipython",
    "version": 3
   },
   "file_extension": ".py",
   "mimetype": "text/x-python",
   "name": "python",
   "nbconvert_exporter": "python",
   "pygments_lexer": "ipython3",
   "version": "3.7.5"
  }
 },
 "nbformat": 4,
 "nbformat_minor": 2
}
