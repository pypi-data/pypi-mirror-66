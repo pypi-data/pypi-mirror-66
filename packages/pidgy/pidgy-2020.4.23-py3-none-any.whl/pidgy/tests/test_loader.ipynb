{
 "cells": [
  {
   "cell_type": "code",
   "execution_count": 1,
   "metadata": {},
   "outputs": [],
   "source": [
    "    import pidgy, importlib, pathlib"
   ]
  },
  {
   "cell_type": "code",
   "execution_count": 2,
   "metadata": {},
   "outputs": [],
   "source": [
    "    def test_md():\n",
    "        f = str(pathlib.Path(__file__).parent/'templated_document.md')\n",
    "        loader = pidgy.pidgyLoader(f, f)\n",
    "        templated_document =loader.create_module(importlib.util.spec_from_loader(loader.name, loader))\n",
    "        loader.exec_module(templated_document)\n",
    "        assert templated_document.__file__.endswith('.md')"
   ]
  },
  {
   "cell_type": "code",
   "execution_count": 3,
   "metadata": {},
   "outputs": [],
   "source": [
    "    def test_nb():\n",
    "        f = str(pathlib.Path(__file__).parent/'parameterized_notebook.md.ipynb')\n",
    "        loader = pidgy.pidgyLoader(f, f)\n",
    "        parameterized_notebook =loader.create_module(importlib.util.spec_from_loader(loader.name, loader))\n",
    "        loader.exec_module(parameterized_notebook)\n",
    "        assert parameterized_notebook.__file__.endswith('.md.ipynb')"
   ]
  }
 ],
 "metadata": {
  "kernelspec": {
   "display_name": "Python 3",
   "language": "python",
   "name": "python3"
  },
  "language_info": {
   "codemirror_mode": {
    "name": "ipython",
    "version": 3
   },
   "file_extension": ".py",
   "mimetype": "text/x-python",
   "name": "python",
   "nbconvert_exporter": "python",
   "pygments_lexer": "ipython3",
   "version": "3.7.3"
  }
 },
 "nbformat": 4,
 "nbformat_minor": 4
}
