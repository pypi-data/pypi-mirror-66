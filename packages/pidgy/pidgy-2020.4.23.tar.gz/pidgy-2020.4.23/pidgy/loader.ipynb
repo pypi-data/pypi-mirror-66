{
 "cells": [
  {
   "cell_type": "markdown",
   "metadata": {},
   "source": [
    "# Import Markdown files and notebooks\n",
    "\n",
    "Literate `pidgy` programs are reusable as [Python] scripts and modules.\n",
    "These features are configured by inheriting features from `importnb` that customize the [Python] import system to discover/load alternative source files. `pidgy` treats\n",
    "[Python], [Markdown], and [Notebook] files as python source.\n",
    "\n",
    "`sys.meta_path and sys.path_hooks`"
   ]
  },
  {
   "cell_type": "code",
   "execution_count": 1,
   "metadata": {},
   "outputs": [],
   "source": [
    "    __all__ = 'pidgyLoader',\n",
    "    import pidgy, IPython, importnb"
   ]
  },
  {
   "cell_type": "markdown",
   "metadata": {},
   "source": [
    "`get_data` determines how a file is decoding from disk.  We use it to make an escape hatch for markdown files otherwise we are importing a notebook."
   ]
  },
  {
   "cell_type": "code",
   "execution_count": 2,
   "metadata": {},
   "outputs": [],
   "source": [
    "    def get_data(self, path):\n",
    "        if self.path.endswith('.md'): return self.code(self.decode())\n",
    "        return super(pidgyLoader, self).get_data(path)"
   ]
  },
  {
   "cell_type": "markdown",
   "metadata": {},
   "source": [
    "The `code` method tangles the [Markdown] to [Python] before compiling to an [Abstract Syntax Tree]."
   ]
  },
  {
   "cell_type": "code",
   "execution_count": 3,
   "metadata": {},
   "outputs": [],
   "source": [
    "    def code(self, str):\n",
    "        for callable in (self.transformer_manager.transform_cell, \n",
    "                         pidgy.tangle.demojize):\n",
    "            str = ''.join(callable(''.join(str)))\n",
    "        return str"
   ]
  },
  {
   "cell_type": "markdown",
   "metadata": {},
   "source": [
    "The `visit` method allows custom [Abstract Syntax Tree] transformations to be applied."
   ]
  },
  {
   "cell_type": "code",
   "execution_count": 4,
   "metadata": {},
   "outputs": [],
   "source": [
    "    def visit(self, node):\n",
    "        return pidgy.tangle.ExtraSyntax().visit(node)"
   ]
  },
  {
   "cell_type": "markdown",
   "metadata": {},
   "source": [
    "Attach these methods to the `pidgy` loader."
   ]
  },
  {
   "cell_type": "markdown",
   "metadata": {},
   "source": [
    "Only [Python] files and common flavored notebooks may be used as source code before\n",
    "the `pidgyLoader` is defined. Once the `pidgyLoader` is defined [Markdown] becomes\n",
    "a new source target for [Python] and [Notebook]s bearing the `\".md.ipynb\"` extension are consumed specially as `pidgy` flavored documents."
   ]
  },
  {
   "cell_type": "code",
   "execution_count": 5,
   "metadata": {},
   "outputs": [],
   "source": [
    "    class pidgyLoader(importnb.Notebook): \n",
    "        extensions = \".py.md .md .md.ipynb\".split()\n",
    "        transformer_manager = pidgy.tangle.pidgyManager()\n",
    "        code = code\n",
    "        visit = visit\n",
    "        get_source = get_data = get_data"
   ]
  },
  {
   "cell_type": "code",
   "execution_count": null,
   "metadata": {},
   "outputs": [],
   "source": []
  }
 ],
 "metadata": {
  "kernelspec": {
   "display_name": "Python 3",
   "language": "python",
   "name": "python3"
  },
  "language_info": {
   "codemirror_mode": {
    "name": "ipython",
    "version": 3
   },
   "file_extension": ".py",
   "mimetype": "text/x-python",
   "name": "python",
   "nbconvert_exporter": "python",
   "pygments_lexer": "ipython3",
   "version": "3.7.3"
  }
 },
 "nbformat": 4,
 "nbformat_minor": 4
}
