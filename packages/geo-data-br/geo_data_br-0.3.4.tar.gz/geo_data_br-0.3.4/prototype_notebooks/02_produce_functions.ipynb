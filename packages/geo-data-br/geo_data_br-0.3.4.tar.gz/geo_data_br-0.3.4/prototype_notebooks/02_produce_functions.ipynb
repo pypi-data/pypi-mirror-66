{
 "cells": [
  {
   "cell_type": "code",
   "execution_count": null,
   "metadata": {},
   "outputs": [],
   "source": [
    "root_dir = !git rev-parse --show-toplevel\n",
    "import os; os.chdir(root_dir[0])"
   ]
  },
  {
   "cell_type": "code",
   "execution_count": null,
   "metadata": {},
   "outputs": [],
   "source": [
    "import joblib\n",
    "import pandas as pd\n",
    "\n",
    "municipalities = joblib.load('data/export/municipality.pickle')\n",
    "udh = joblib.load('data/export/udh.pickle')\n",
    "\n",
    "udh['level'] = 'udh'\n",
    "municipalities['level'] = 'municipality'\n",
    "\n",
    "udh.columns = [c.lower() for c in udh.columns]\n",
    "municipalities.columns = [c.lower() for c in municipalities.columns]\n",
    "\n",
    "\n",
    "municipalities = municipalities.to_crs({'init': 'epsg:4326'})\n",
    "udh = udh.to_crs({'init': 'epsg:4326'})\n",
    "\n",
    "municipalities.sindex\n",
    "udh.sindex;"
   ]
  },
  {
   "cell_type": "code",
   "execution_count": null,
   "metadata": {},
   "outputs": [],
   "source": [
    "columns_descriptions = pd.read_excel('data/preprocessed/A - DICIONÁRIO dos indicadores do Atlas.xlsx')\n",
    "columns_descriptions = columns_descriptions.set_index('SIGLA')\n",
    "columns_descriptions.index.names = [None]\n",
    "columns_descriptions = columns_descriptions.T\n",
    "columns_descriptions.columns = [c.lower() for c in columns_descriptions.columns]\n",
    "columns_descriptions #.to_dict()"
   ]
  },
  {
   "cell_type": "code",
   "execution_count": null,
   "metadata": {},
   "outputs": [],
   "source": [
    "columns_descriptions.to_dict();"
   ]
  },
  {
   "cell_type": "code",
   "execution_count": null,
   "metadata": {},
   "outputs": [],
   "source": [
    "from typing import Tuple, List\n",
    "from shapely.geometry import Point, MultiPoint\n",
    "import geopandas as gpd"
   ]
  },
  {
   "cell_type": "code",
   "execution_count": null,
   "metadata": {},
   "outputs": [],
   "source": [
    "def get_info(points: List[Point], level='best'):\n",
    "    if level not in ('best', 'all'):\n",
    "        raise TypeError('choose a suported_level')\n",
    "    points = [Point(p) for p in points]\n",
    "    points =  gpd.GeoDataFrame(geometry=points)\n",
    "    points.crs = {'init' :'epsg:4326'} # default to this projection\n",
    "    udh_level = gpd.sjoin(points, udh)\n",
    "    missing_points = points.index.difference(udh_level.index)\n",
    "    if level == 'best':\n",
    "        municipality_level = gpd.sjoin(points.loc[missing_points], municipalities)\n",
    "        out = pd.concat([udh_level, municipality_level], sort=False)\n",
    "        assert out.index.shape == points.index.shape\n",
    "        return out.loc[points.index]\n",
    "    elif level == 'all':\n",
    "        raise NotImplementedError\n"
   ]
  },
  {
   "cell_type": "code",
   "execution_count": null,
   "metadata": {},
   "outputs": [],
   "source": [
    "test = [Point(-59.23352, -3.35030), Point(-60.17875, -3.27442), Point(-43.198976, -22.956012), Point(-43.194284, -22.947361)] * 1000\n",
    "df = get_info(test[0:2])\n",
    "df.dropna(axis=1).espvida"
   ]
  },
  {
   "cell_type": "code",
   "execution_count": null,
   "metadata": {},
   "outputs": [],
   "source": [
    "df.columns.difference(columns_descriptions.columns)\n",
    "columns_descriptions.columns.difference(df.columns)"
   ]
  },
  {
   "cell_type": "code",
   "execution_count": null,
   "metadata": {},
   "outputs": [],
   "source": [
    "df.columns.tolist();"
   ]
  },
  {
   "cell_type": "code",
   "execution_count": null,
   "metadata": {},
   "outputs": [],
   "source": [
    "%%time\n",
    "ble = get_info(test)\n",
    "ble.head()"
   ]
  },
  {
   "cell_type": "code",
   "execution_count": null,
   "metadata": {},
   "outputs": [],
   "source": [
    "ble.rdpc10"
   ]
  },
  {
   "cell_type": "markdown",
   "metadata": {},
   "source": [
    "# Gutter"
   ]
  },
  {
   "cell_type": "markdown",
   "metadata": {},
   "source": [
    "## Metadata in dataframes (comments columns)"
   ]
  },
  {
   "cell_type": "code",
   "execution_count": null,
   "metadata": {},
   "outputs": [],
   "source": [
    "def comment_column(self, column, comment):\n",
    "    assert column in self.columns\n",
    "    self._extra_metadata = getattr(self, '_extra_metadata', {})\n",
    "    self._extra_metadata[column] = comment\n",
    "    \n",
    "def bind(instance, func, as_name=None):\n",
    "    \"\"\"\n",
    "    Bind the function *func* to *instance*, with either provided name *as_name*\n",
    "    or the existing name of *func*. The provided *func* should accept the \n",
    "    instance as the first argument, i.e. \"self\".\n",
    "    \"\"\"\n",
    "    if as_name is None:\n",
    "        as_name = func.__name__\n",
    "    bound_method = func.__get__(instance, instance.__class__)\n",
    "    setattr(instance, as_name, bound_method)\n",
    "    return bound_method\n",
    "\n",
    "ble.comment_column = bind(ble, comment_column)"
   ]
  },
  {
   "cell_type": "code",
   "execution_count": null,
   "metadata": {},
   "outputs": [],
   "source": [
    "ble.comment_column('Cod_ID', 'comentario')"
   ]
  },
  {
   "cell_type": "code",
   "execution_count": null,
   "metadata": {},
   "outputs": [],
   "source": []
  }
 ],
 "metadata": {
  "kernelspec": {
   "display_name": "Python 3",
   "language": "python",
   "name": "python3"
  }
 },
 "nbformat": 4,
 "nbformat_minor": 4
}
