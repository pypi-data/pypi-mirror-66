{
 "cells": [
  {
   "cell_type": "code",
   "execution_count": null,
   "metadata": {},
   "outputs": [],
   "source": [
    "root_dir = !git rev-parse --show-toplevel\n",
    "import os; os.chdir(root_dir[0])"
   ]
  },
  {
   "cell_type": "code",
   "execution_count": null,
   "metadata": {},
   "outputs": [],
   "source": [
    "import requests\n",
    "import geojson\n",
    "import shapely\n",
    "from collections import namedtuple\n",
    "from shapely.geometry import shape, Point\n",
    "import geopandas as gpd\n",
    "import pandas as pd\n",
    "import sqlalchemy"
   ]
  },
  {
   "cell_type": "code",
   "execution_count": null,
   "metadata": {},
   "outputs": [],
   "source": [
    "!ls data/"
   ]
  },
  {
   "cell_type": "markdown",
   "metadata": {},
   "source": [
    "# Get shape data"
   ]
  },
  {
   "cell_type": "markdown",
   "metadata": {},
   "source": [
    "## Get udh shapes"
   ]
  },
  {
   "cell_type": "code",
   "execution_count": null,
   "metadata": {},
   "outputs": [],
   "source": [
    "import glob\n",
    "regions = glob.glob('data/preprocessed/udh/*shp')\n",
    "regions.remove('data/preprocessed/udh/RM_Salvador_UDH_4_region.shp') # ta meio ferrado\n",
    "regions;"
   ]
  },
  {
   "cell_type": "code",
   "execution_count": null,
   "metadata": {},
   "outputs": [],
   "source": [
    "## ['UDH_ATLAS', 'REGIONAL', 'CD_GEOCODM', 'NM_MUNICIP', 'geometry']\n",
    "import re\n",
    "\n",
    "udh_geo = gpd.GeoDataFrame()\n",
    "for r in regions[:]:\n",
    "    region = gpd.read_file(r)\n",
    "    #region.rename(columns={'NOME_MUNIC': 'NM_MUNICIP', 'CODIGO_MUN': 'CD_GEOCODM'}, inplace=True)\n",
    "    region.rename(columns={'RM': 'REGIONAL'}, inplace=True)\n",
    "    udh_geo = pd.concat([udh_geo, region], sort=False)\n",
    "udh_geo['UDH_ATLAS'] = udh_geo.UDH_ATLAS.apply(lambda x: int(re.sub(r'[a-zA-Z]', '', x)))\n",
    "udh_geo = udh_geo.set_index('UDH_ATLAS')"
   ]
  },
  {
   "cell_type": "code",
   "execution_count": null,
   "metadata": {},
   "outputs": [],
   "source": [
    "print(udh_geo.shape)\n",
    "udh_geo.columns"
   ]
  },
  {
   "cell_type": "code",
   "execution_count": null,
   "metadata": {},
   "outputs": [],
   "source": [
    "udh_geo.head()"
   ]
  },
  {
   "cell_type": "code",
   "execution_count": null,
   "metadata": {},
   "outputs": [],
   "source": [
    "udh_geo.plot();"
   ]
  },
  {
   "cell_type": "markdown",
   "metadata": {},
   "source": [
    "## Get regions shapes"
   ]
  },
  {
   "cell_type": "code",
   "execution_count": null,
   "metadata": {},
   "outputs": [],
   "source": [
    "import rarfile\n",
    "path_to_file = 'data/br/'\n",
    "filename = 'Municipios_Brasil.rar'\n",
    "with rarfile.RarFile(path_to_file + filename, 'r') as rar:\n",
    "    rar.extractall(path_to_file)"
   ]
  },
  {
   "cell_type": "code",
   "execution_count": null,
   "metadata": {},
   "outputs": [],
   "source": [
    "municipality_geo = gpd.read_file('data/br/MUNICIPIOS_polígonos.shp')\n",
    "municipality_geo.rename(columns={'COD_IBGE': 'CD_GEOCODM'}, inplace=True)\n",
    "municipality_geo['CD_GEOCODM'] = municipality_geo.CD_GEOCODM.astype(int)\n",
    "municipality_geo.head()"
   ]
  },
  {
   "cell_type": "code",
   "execution_count": null,
   "metadata": {},
   "outputs": [],
   "source": [
    "municipality_geo.plot();"
   ]
  },
  {
   "cell_type": "markdown",
   "metadata": {},
   "source": [
    "# Get scalar data"
   ]
  },
  {
   "cell_type": "markdown",
   "metadata": {},
   "source": [
    "## Get regions data"
   ]
  },
  {
   "cell_type": "code",
   "execution_count": null,
   "metadata": {},
   "outputs": [],
   "source": [
    "municipality_data = pd.read_excel('data/preprocessed/atlas2013_dadosbrutos_pt.xlsx', sheet_name='MUN 91-00-10')\n",
    "municipality_data.head()"
   ]
  },
  {
   "cell_type": "code",
   "execution_count": null,
   "metadata": {},
   "outputs": [],
   "source": [
    "municipality_data = municipality_data.set_index('Codmun7').query('ANO == 2010')"
   ]
  },
  {
   "cell_type": "markdown",
   "metadata": {},
   "source": [
    "## Get udh data"
   ]
  },
  {
   "cell_type": "code",
   "execution_count": null,
   "metadata": {},
   "outputs": [],
   "source": [
    "udh_files = glob.glob('data/preprocessed/udh/*.parquet')\n",
    "\n",
    "udh_data = pd.DataFrame()\n",
    "columns = set()\n",
    "for file in udh_files[:]:\n",
    "    f = pd.read_parquet(file)\n",
    "    if not columns: columns.update(f.columns)\n",
    "    else:\n",
    "        extra_columns = set(f.columns) - columns\n",
    "        if extra_columns:\n",
    "            print(f'error, too many columns: {extra_columns}')\n",
    "    #region.rename(columns={'NOME_MUNIC': 'NM_MUNICIP', 'CODIGO_MUN': 'CD_GEOCODM'}, inplace=True)\n",
    "    udh_data = pd.concat([udh_data, f.query('ANO == 2010')], sort=False)\n"
   ]
  },
  {
   "cell_type": "code",
   "execution_count": null,
   "metadata": {},
   "outputs": [],
   "source": [
    "udh_data = udh_data.drop_duplicates().dropna(subset=['Cod_ID'])\n",
    "udh_data = udh_data.set_index('UDH_Atlas')\n",
    "udh_data.index = udh_data.index.astype(int)\n",
    "udh_data.shape"
   ]
  },
  {
   "cell_type": "code",
   "execution_count": null,
   "metadata": {},
   "outputs": [],
   "source": [
    "_ = udh_data.isna().sum()\n",
    "_.sort_values(ascending=False).head().to_dict()\n",
    "# missing columns"
   ]
  },
  {
   "cell_type": "markdown",
   "metadata": {},
   "source": [
    "# Join and make final dataframes"
   ]
  },
  {
   "cell_type": "markdown",
   "metadata": {},
   "source": [
    "## Join municipalities"
   ]
  },
  {
   "cell_type": "code",
   "execution_count": null,
   "metadata": {},
   "outputs": [],
   "source": [
    "municipalities = municipality_geo.join(municipality_data, on='CD_GEOCODM', rsuffix='_DUPLICATE')"
   ]
  },
  {
   "cell_type": "code",
   "execution_count": null,
   "metadata": {},
   "outputs": [],
   "source": [
    "print('Couldnt join these lines: ')\n",
    "municipalities[municipalities.UF_DUPLICATE.isna()]"
   ]
  },
  {
   "cell_type": "code",
   "execution_count": null,
   "metadata": {},
   "outputs": [],
   "source": [
    "municipalities.dropna(subset=['UF_DUPLICATE'], inplace=True)\n",
    "print('Dropped unjoined lines!')"
   ]
  },
  {
   "cell_type": "code",
   "execution_count": null,
   "metadata": {},
   "outputs": [],
   "source": [
    "municipalities.plot(column='T_CRIFUNDIN_TODOS', legend=True);"
   ]
  },
  {
   "cell_type": "markdown",
   "metadata": {},
   "source": [
    "## Join UDH"
   ]
  },
  {
   "cell_type": "code",
   "execution_count": null,
   "metadata": {},
   "outputs": [],
   "source": [
    "udh_geo.index.dtype\n",
    "udh_data.index.dtype"
   ]
  },
  {
   "cell_type": "code",
   "execution_count": null,
   "metadata": {},
   "outputs": [],
   "source": [
    "udh = udh_geo.join(udh_data, rsuffix='_DUPLICATE')\n",
    "udh.head()"
   ]
  },
  {
   "cell_type": "markdown",
   "metadata": {},
   "source": [
    "Treat duplicated data"
   ]
  },
  {
   "cell_type": "code",
   "execution_count": null,
   "metadata": {},
   "outputs": [],
   "source": [
    "from feature_names import feature_columns"
   ]
  },
  {
   "cell_type": "code",
   "execution_count": null,
   "metadata": {},
   "outputs": [],
   "source": [
    "# This cell proves that all the first occurrences has just NA values in the specific column\n",
    "\n",
    "duplicated_stuff = udh[udh.duplicated(subset=[\"geometry\", \"NM_MUNICIP\"], keep='last')].isna()\n",
    "assert all([all(duplicated_stuff[col]) for col in feature_columns])"
   ]
  },
  {
   "cell_type": "code",
   "execution_count": null,
   "metadata": {},
   "outputs": [],
   "source": [
    "udh = udh.drop_duplicates(subset=[\"geometry\", \"NM_MUNICIP\"], keep='last')\n",
    "udh[udh[\"I_ESCOLARIDADE\"].isna()]"
   ]
  },
  {
   "cell_type": "markdown",
   "metadata": {},
   "source": [
    "# Export data"
   ]
  },
  {
   "cell_type": "code",
   "execution_count": null,
   "metadata": {},
   "outputs": [],
   "source": [
    "%%script echo false\n",
    "import tempfile\n",
    "import shutil\n",
    "\n",
    "with tempfile.TemporaryDirectory() as d:\n",
    "    udh.to_file(d)\n",
    "    shutil.make_archive('udh', 'zip', d)\n",
    "    \n",
    "with tempfile.TemporaryDirectory() as d:\n",
    "    municipalities.to_file(d)\n",
    "    shutil.make_archive('municipalities', 'zip', d)"
   ]
  },
  {
   "cell_type": "code",
   "execution_count": null,
   "metadata": {},
   "outputs": [],
   "source": [
    "!mkdir -p data/export\n",
    "municipalities.to_pickle('data/export/municipality.pickle')\n",
    "udh.to_pickle('data/export/udh.pickle')"
   ]
  },
  {
   "cell_type": "code",
   "execution_count": null,
   "metadata": {},
   "outputs": [],
   "source": [
    "!du -sh data/export/*"
   ]
  },
  {
   "cell_type": "code",
   "execution_count": null,
   "metadata": {},
   "outputs": [],
   "source": [
    "from zipfile import ZipFile\n",
    "with ZipFile('data/export/data.zip', 'w') as zip_obj:\n",
    "    zip_obj.write('data/export/udh.pickle', 'udh.pickle')\n",
    "    zip_obj.write('data/export/municipality.pickle', 'municipality.pickle')"
   ]
  },
  {
   "cell_type": "markdown",
   "metadata": {},
   "source": [
    "# Deploy data"
   ]
  },
  {
   "cell_type": "code",
   "execution_count": null,
   "metadata": {},
   "outputs": [],
   "source": [
    "from os import replace\n",
    "replace('data/export/data.zip', 'geo_data_br/data/data.zip')"
   ]
  },
  {
   "cell_type": "markdown",
   "metadata": {},
   "source": [
    "# Nice things"
   ]
  },
  {
   "cell_type": "code",
   "execution_count": null,
   "metadata": {},
   "outputs": [],
   "source": [
    "udh.iloc[0]['HOMEM30A34']"
   ]
  },
  {
   "cell_type": "code",
   "execution_count": null,
   "metadata": {},
   "outputs": [],
   "source": [
    "municipalities.plot('HOMEM30A34', legend=True);"
   ]
  },
  {
   "cell_type": "markdown",
   "metadata": {},
   "source": [
    "# Gutter"
   ]
  },
  {
   "cell_type": "code",
   "execution_count": null,
   "metadata": {},
   "outputs": [],
   "source": []
  },
  {
   "cell_type": "code",
   "execution_count": null,
   "metadata": {},
   "outputs": [],
   "source": [
    "udh_clean[udh_clean[\"NM_MUNICIP\"] == \"SÃO JOSÉ DOS CAMPOS\"]"
   ]
  },
  {
   "cell_type": "code",
   "execution_count": null,
   "metadata": {},
   "outputs": [],
   "source": []
  }
 ],
 "metadata": {
  "kernelspec": {
   "display_name": "Default Python (olx)",
   "language": "python",
   "name": "olx"
  },
  "language_info": {
   "codemirror_mode": {
    "name": "ipython",
    "version": 3
   },
   "file_extension": ".py",
   "mimetype": "text/x-python",
   "name": "python",
   "nbconvert_exporter": "python",
   "pygments_lexer": "ipython3",
   "version": "3.7.4"
  }
 },
 "nbformat": 4,
 "nbformat_minor": 4
}
