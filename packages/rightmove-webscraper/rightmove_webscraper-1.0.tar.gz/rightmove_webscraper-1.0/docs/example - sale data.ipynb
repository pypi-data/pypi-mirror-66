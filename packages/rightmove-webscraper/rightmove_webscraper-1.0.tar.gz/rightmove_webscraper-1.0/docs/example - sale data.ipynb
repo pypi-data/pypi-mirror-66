{
 "cells": [
  {
   "cell_type": "markdown",
   "metadata": {},
   "source": [
    "# `rightmove_webscraper.py`\n",
    "# Example - Get Sale Data"
   ]
  },
  {
   "cell_type": "code",
   "execution_count": 1,
   "metadata": {},
   "outputs": [],
   "source": [
    "# Setup:\n",
    "import os, sys\n",
    "sys.path.append(os.path.dirname(os.getcwd()))\n",
    "from rightmove_webscraper import RightmoveData"
   ]
  },
  {
   "cell_type": "markdown",
   "metadata": {},
   "source": [
    "Create an instance of the class with a URL copied from the rightmove website after performing a specific search:"
   ]
  },
  {
   "cell_type": "code",
   "execution_count": 2,
   "metadata": {},
   "outputs": [
    {
     "data": {
      "text/plain": [
       "76"
      ]
     },
     "execution_count": 2,
     "metadata": {},
     "output_type": "execute_result"
    }
   ],
   "source": [
    "url = \"https://www.rightmove.co.uk/property-for-sale/find.html?\\searchType=SALE&locationIdentifier=REGION%5E94346\"\n",
    "rmd = RightmoveData(url)\n",
    "rmd.results_count"
   ]
  },
  {
   "cell_type": "markdown",
   "metadata": {},
   "source": [
    "The `average_price` attribute gives the mean price of all results returned:"
   ]
  },
  {
   "cell_type": "code",
   "execution_count": 3,
   "metadata": {},
   "outputs": [
    {
     "name": "stdout",
     "output_type": "stream",
     "text": [
      "£2,198,077\n"
     ]
    }
   ],
   "source": [
    "print(f\"£{rmd.average_price:,.0f}\")"
   ]
  },
  {
   "cell_type": "markdown",
   "metadata": {},
   "source": [
    "The `summary` attribute creates a Pandas DataFrame summarising the results by count and mean price:"
   ]
  },
  {
   "cell_type": "code",
   "execution_count": 4,
   "metadata": {},
   "outputs": [
    {
     "data": {
      "text/html": [
       "<div>\n",
       "<style scoped>\n",
       "    .dataframe tbody tr th:only-of-type {\n",
       "        vertical-align: middle;\n",
       "    }\n",
       "\n",
       "    .dataframe tbody tr th {\n",
       "        vertical-align: top;\n",
       "    }\n",
       "\n",
       "    .dataframe thead th {\n",
       "        text-align: right;\n",
       "    }\n",
       "</style>\n",
       "<table border=\"1\" class=\"dataframe\">\n",
       "  <thead>\n",
       "    <tr style=\"text-align: right;\">\n",
       "      <th></th>\n",
       "      <th>number_bedrooms</th>\n",
       "      <th>count</th>\n",
       "      <th>mean</th>\n",
       "    </tr>\n",
       "  </thead>\n",
       "  <tbody>\n",
       "    <tr>\n",
       "      <td>0</td>\n",
       "      <td>0</td>\n",
       "      <td>9</td>\n",
       "      <td>9.949944e+05</td>\n",
       "    </tr>\n",
       "    <tr>\n",
       "      <td>1</td>\n",
       "      <td>1</td>\n",
       "      <td>16</td>\n",
       "      <td>1.103997e+06</td>\n",
       "    </tr>\n",
       "    <tr>\n",
       "      <td>2</td>\n",
       "      <td>2</td>\n",
       "      <td>37</td>\n",
       "      <td>1.810404e+06</td>\n",
       "    </tr>\n",
       "    <tr>\n",
       "      <td>3</td>\n",
       "      <td>3</td>\n",
       "      <td>12</td>\n",
       "      <td>5.695833e+06</td>\n",
       "    </tr>\n",
       "    <tr>\n",
       "      <td>4</td>\n",
       "      <td>4</td>\n",
       "      <td>1</td>\n",
       "      <td>5.100000e+06</td>\n",
       "    </tr>\n",
       "  </tbody>\n",
       "</table>\n",
       "</div>"
      ],
      "text/plain": [
       "   number_bedrooms  count          mean\n",
       "0                0      9  9.949944e+05\n",
       "1                1     16  1.103997e+06\n",
       "2                2     37  1.810404e+06\n",
       "3                3     12  5.695833e+06\n",
       "4                4      1  5.100000e+06"
      ]
     },
     "execution_count": 4,
     "metadata": {},
     "output_type": "execute_result"
    }
   ],
   "source": [
    "rmd.summary()"
   ]
  },
  {
   "cell_type": "markdown",
   "metadata": {},
   "source": [
    "By default `summary` is group by number of bedrooms, but can also be grouped by any column in the DataFrame at the `get_results` attribute:"
   ]
  },
  {
   "cell_type": "code",
   "execution_count": 5,
   "metadata": {},
   "outputs": [
    {
     "data": {
      "text/html": [
       "<div>\n",
       "<style scoped>\n",
       "    .dataframe tbody tr th:only-of-type {\n",
       "        vertical-align: middle;\n",
       "    }\n",
       "\n",
       "    .dataframe tbody tr th {\n",
       "        vertical-align: top;\n",
       "    }\n",
       "\n",
       "    .dataframe thead th {\n",
       "        text-align: right;\n",
       "    }\n",
       "</style>\n",
       "<table border=\"1\" class=\"dataframe\">\n",
       "  <thead>\n",
       "    <tr style=\"text-align: right;\">\n",
       "      <th></th>\n",
       "      <th>postcode</th>\n",
       "      <th>count</th>\n",
       "      <th>mean</th>\n",
       "    </tr>\n",
       "  </thead>\n",
       "  <tbody>\n",
       "    <tr>\n",
       "      <td>0</td>\n",
       "      <td>SW8</td>\n",
       "      <td>23</td>\n",
       "      <td>3.516304e+06</td>\n",
       "    </tr>\n",
       "    <tr>\n",
       "      <td>1</td>\n",
       "      <td>SW11</td>\n",
       "      <td>21</td>\n",
       "      <td>1.275857e+06</td>\n",
       "    </tr>\n",
       "  </tbody>\n",
       "</table>\n",
       "</div>"
      ],
      "text/plain": [
       "  postcode  count          mean\n",
       "0      SW8     23  3.516304e+06\n",
       "1     SW11     21  1.275857e+06"
      ]
     },
     "execution_count": 5,
     "metadata": {},
     "output_type": "execute_result"
    }
   ],
   "source": [
    "rmd.summary(by=\"postcode\")"
   ]
  },
  {
   "cell_type": "markdown",
   "metadata": {},
   "source": [
    "The `get_results` attribute returns all listings in a Pandas dataframe:"
   ]
  },
  {
   "cell_type": "code",
   "execution_count": 6,
   "metadata": {},
   "outputs": [
    {
     "data": {
      "text/html": [
       "<div>\n",
       "<style scoped>\n",
       "    .dataframe tbody tr th:only-of-type {\n",
       "        vertical-align: middle;\n",
       "    }\n",
       "\n",
       "    .dataframe tbody tr th {\n",
       "        vertical-align: top;\n",
       "    }\n",
       "\n",
       "    .dataframe thead th {\n",
       "        text-align: right;\n",
       "    }\n",
       "</style>\n",
       "<table border=\"1\" class=\"dataframe\">\n",
       "  <thead>\n",
       "    <tr style=\"text-align: right;\">\n",
       "      <th></th>\n",
       "      <th>price</th>\n",
       "      <th>type</th>\n",
       "      <th>address</th>\n",
       "      <th>url</th>\n",
       "      <th>agent_url</th>\n",
       "      <th>postcode</th>\n",
       "      <th>number_bedrooms</th>\n",
       "      <th>search_date</th>\n",
       "    </tr>\n",
       "  </thead>\n",
       "  <tbody>\n",
       "    <tr>\n",
       "      <td>71</td>\n",
       "      <td>710000.0</td>\n",
       "      <td>1 bedroom apartment for sale</td>\n",
       "      <td>Scott House, 23 Circus Road West, London, SW11</td>\n",
       "      <td>http://www.rightmove.co.uk/property-for-sale/p...</td>\n",
       "      <td>http://www.rightmove.co.uk/estate-agents/agent...</td>\n",
       "      <td>SW11</td>\n",
       "      <td>1</td>\n",
       "      <td>2019-10-07 21:19:48.578749</td>\n",
       "    </tr>\n",
       "    <tr>\n",
       "      <td>72</td>\n",
       "      <td>700000.0</td>\n",
       "      <td>1 bedroom apartment for sale</td>\n",
       "      <td>Dawson House, Battersea Power Station, London,...</td>\n",
       "      <td>http://www.rightmove.co.uk/property-for-sale/p...</td>\n",
       "      <td>http://www.rightmove.co.uk/estate-agents/agent...</td>\n",
       "      <td>SW11</td>\n",
       "      <td>1</td>\n",
       "      <td>2019-10-07 21:19:48.578749</td>\n",
       "    </tr>\n",
       "    <tr>\n",
       "      <td>73</td>\n",
       "      <td>675000.0</td>\n",
       "      <td>1 bedroom apartment for sale</td>\n",
       "      <td>Scott House, Battersea Power Station, SW11</td>\n",
       "      <td>http://www.rightmove.co.uk/property-for-sale/p...</td>\n",
       "      <td>http://www.rightmove.co.uk/estate-agents/agent...</td>\n",
       "      <td>SW11</td>\n",
       "      <td>1</td>\n",
       "      <td>2019-10-07 21:19:48.578749</td>\n",
       "    </tr>\n",
       "    <tr>\n",
       "      <td>74</td>\n",
       "      <td>550000.0</td>\n",
       "      <td>Studio apartment for sale</td>\n",
       "      <td>Pearce House, Battersea Power Station, Batters...</td>\n",
       "      <td>http://www.rightmove.co.uk/property-for-sale/p...</td>\n",
       "      <td>http://www.rightmove.co.uk/estate-agents/agent...</td>\n",
       "      <td>SW11</td>\n",
       "      <td>0</td>\n",
       "      <td>2019-10-07 21:19:48.578749</td>\n",
       "    </tr>\n",
       "    <tr>\n",
       "      <td>75</td>\n",
       "      <td>540000.0</td>\n",
       "      <td>1 bedroom flat for sale</td>\n",
       "      <td>Pearce House, Battersea Power Station, 8 Circu...</td>\n",
       "      <td>http://www.rightmove.co.uk/property-for-sale/p...</td>\n",
       "      <td>http://www.rightmove.co.uk/estate-agents/agent...</td>\n",
       "      <td>SW11</td>\n",
       "      <td>1</td>\n",
       "      <td>2019-10-07 21:19:48.578749</td>\n",
       "    </tr>\n",
       "  </tbody>\n",
       "</table>\n",
       "</div>"
      ],
      "text/plain": [
       "       price                          type  \\\n",
       "71  710000.0  1 bedroom apartment for sale   \n",
       "72  700000.0  1 bedroom apartment for sale   \n",
       "73  675000.0  1 bedroom apartment for sale   \n",
       "74  550000.0     Studio apartment for sale   \n",
       "75  540000.0       1 bedroom flat for sale   \n",
       "\n",
       "                                              address  \\\n",
       "71     Scott House, 23 Circus Road West, London, SW11   \n",
       "72  Dawson House, Battersea Power Station, London,...   \n",
       "73         Scott House, Battersea Power Station, SW11   \n",
       "74  Pearce House, Battersea Power Station, Batters...   \n",
       "75  Pearce House, Battersea Power Station, 8 Circu...   \n",
       "\n",
       "                                                  url  \\\n",
       "71  http://www.rightmove.co.uk/property-for-sale/p...   \n",
       "72  http://www.rightmove.co.uk/property-for-sale/p...   \n",
       "73  http://www.rightmove.co.uk/property-for-sale/p...   \n",
       "74  http://www.rightmove.co.uk/property-for-sale/p...   \n",
       "75  http://www.rightmove.co.uk/property-for-sale/p...   \n",
       "\n",
       "                                            agent_url postcode  \\\n",
       "71  http://www.rightmove.co.uk/estate-agents/agent...     SW11   \n",
       "72  http://www.rightmove.co.uk/estate-agents/agent...     SW11   \n",
       "73  http://www.rightmove.co.uk/estate-agents/agent...     SW11   \n",
       "74  http://www.rightmove.co.uk/estate-agents/agent...     SW11   \n",
       "75  http://www.rightmove.co.uk/estate-agents/agent...     SW11   \n",
       "\n",
       "    number_bedrooms                search_date  \n",
       "71                1 2019-10-07 21:19:48.578749  \n",
       "72                1 2019-10-07 21:19:48.578749  \n",
       "73                1 2019-10-07 21:19:48.578749  \n",
       "74                0 2019-10-07 21:19:48.578749  \n",
       "75                1 2019-10-07 21:19:48.578749  "
      ]
     },
     "execution_count": 6,
     "metadata": {},
     "output_type": "execute_result"
    }
   ],
   "source": [
    "rmd.get_results.tail()"
   ]
  }
 ],
 "metadata": {
  "kernelspec": {
   "display_name": "Python 3",
   "language": "python",
   "name": "python3"
  },
  "language_info": {
   "codemirror_mode": {
    "name": "ipython",
    "version": 3
   },
   "file_extension": ".py",
   "mimetype": "text/x-python",
   "name": "python",
   "nbconvert_exporter": "python",
   "pygments_lexer": "ipython3",
   "version": "3.7.3"
  }
 },
 "nbformat": 4,
 "nbformat_minor": 1
}
