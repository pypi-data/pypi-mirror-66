{
 "cells": [
  {
   "cell_type": "markdown",
   "metadata": {},
   "source": [
    "# `rightmove_webscraper.py`\n",
    "# Example - Get Rental Data"
   ]
  },
  {
   "cell_type": "code",
   "execution_count": 1,
   "metadata": {},
   "outputs": [],
   "source": [
    "import os, sys\n",
    "sys.path.append(os.path.dirname(os.getcwd()))\n",
    "from rightmove_webscraper import RightmoveData"
   ]
  },
  {
   "cell_type": "markdown",
   "metadata": {},
   "source": [
    "Create an instance of the class with a URL copied from the rightmove website after performing a specific search:"
   ]
  },
  {
   "cell_type": "code",
   "execution_count": 2,
   "metadata": {},
   "outputs": [
    {
     "data": {
      "text/plain": [
       "16"
      ]
     },
     "execution_count": 2,
     "metadata": {},
     "output_type": "execute_result"
    }
   ],
   "source": [
    "url = \"https://www.rightmove.co.uk/property-to-rent/find.html?searchType=RENT&locationIdentifier=REGION%5E94346\"\n",
    "rmd = RightmoveData(url)\n",
    "rmd.results_count"
   ]
  },
  {
   "cell_type": "markdown",
   "metadata": {},
   "source": [
    "The `average_price` attribute gives the mean price of all results returned:"
   ]
  },
  {
   "cell_type": "code",
   "execution_count": 3,
   "metadata": {},
   "outputs": [
    {
     "name": "stdout",
     "output_type": "stream",
     "text": [
      "£3,084\n"
     ]
    }
   ],
   "source": [
    "print(f\"£{rmd.average_price:,.0f}\")"
   ]
  },
  {
   "cell_type": "markdown",
   "metadata": {},
   "source": [
    "The `summary` attribute creates a Pandas DataFrame summarising the results by count and mean price:"
   ]
  },
  {
   "cell_type": "code",
   "execution_count": 4,
   "metadata": {},
   "outputs": [
    {
     "data": {
      "text/html": [
       "<div>\n",
       "<style scoped>\n",
       "    .dataframe tbody tr th:only-of-type {\n",
       "        vertical-align: middle;\n",
       "    }\n",
       "\n",
       "    .dataframe tbody tr th {\n",
       "        vertical-align: top;\n",
       "    }\n",
       "\n",
       "    .dataframe thead th {\n",
       "        text-align: right;\n",
       "    }\n",
       "</style>\n",
       "<table border=\"1\" class=\"dataframe\">\n",
       "  <thead>\n",
       "    <tr style=\"text-align: right;\">\n",
       "      <th></th>\n",
       "      <th>number_bedrooms</th>\n",
       "      <th>count</th>\n",
       "      <th>mean</th>\n",
       "    </tr>\n",
       "  </thead>\n",
       "  <tbody>\n",
       "    <tr>\n",
       "      <td>0</td>\n",
       "      <td>0</td>\n",
       "      <td>1</td>\n",
       "      <td>1950.000000</td>\n",
       "    </tr>\n",
       "    <tr>\n",
       "      <td>1</td>\n",
       "      <td>1</td>\n",
       "      <td>6</td>\n",
       "      <td>2246.666667</td>\n",
       "    </tr>\n",
       "    <tr>\n",
       "      <td>2</td>\n",
       "      <td>2</td>\n",
       "      <td>8</td>\n",
       "      <td>3615.375000</td>\n",
       "    </tr>\n",
       "    <tr>\n",
       "      <td>3</td>\n",
       "      <td>3</td>\n",
       "      <td>1</td>\n",
       "      <td>4983.000000</td>\n",
       "    </tr>\n",
       "  </tbody>\n",
       "</table>\n",
       "</div>"
      ],
      "text/plain": [
       "   number_bedrooms  count         mean\n",
       "0                0      1  1950.000000\n",
       "1                1      6  2246.666667\n",
       "2                2      8  3615.375000\n",
       "3                3      1  4983.000000"
      ]
     },
     "execution_count": 4,
     "metadata": {},
     "output_type": "execute_result"
    }
   ],
   "source": [
    "rmd.summary()"
   ]
  },
  {
   "cell_type": "markdown",
   "metadata": {},
   "source": [
    "By default `summary` is group by number of bedrooms, but can also be grouped by any column in the DataFrame at the `get_results` attribute:"
   ]
  },
  {
   "cell_type": "code",
   "execution_count": 5,
   "metadata": {},
   "outputs": [
    {
     "data": {
      "text/html": [
       "<div>\n",
       "<style scoped>\n",
       "    .dataframe tbody tr th:only-of-type {\n",
       "        vertical-align: middle;\n",
       "    }\n",
       "\n",
       "    .dataframe tbody tr th {\n",
       "        vertical-align: top;\n",
       "    }\n",
       "\n",
       "    .dataframe thead th {\n",
       "        text-align: right;\n",
       "    }\n",
       "</style>\n",
       "<table border=\"1\" class=\"dataframe\">\n",
       "  <thead>\n",
       "    <tr style=\"text-align: right;\">\n",
       "      <th></th>\n",
       "      <th>postcode</th>\n",
       "      <th>count</th>\n",
       "      <th>mean</th>\n",
       "    </tr>\n",
       "  </thead>\n",
       "  <tbody>\n",
       "    <tr>\n",
       "      <td>0</td>\n",
       "      <td>SW11</td>\n",
       "      <td>12</td>\n",
       "      <td>3181.416667</td>\n",
       "    </tr>\n",
       "    <tr>\n",
       "      <td>1</td>\n",
       "      <td>SW8</td>\n",
       "      <td>1</td>\n",
       "      <td>3250.000000</td>\n",
       "    </tr>\n",
       "  </tbody>\n",
       "</table>\n",
       "</div>"
      ],
      "text/plain": [
       "  postcode  count         mean\n",
       "0     SW11     12  3181.416667\n",
       "1      SW8      1  3250.000000"
      ]
     },
     "execution_count": 5,
     "metadata": {},
     "output_type": "execute_result"
    }
   ],
   "source": [
    "rmd.summary(by=\"postcode\")"
   ]
  },
  {
   "cell_type": "markdown",
   "metadata": {},
   "source": [
    "The `get_results` attribute returns all listings in a Pandas dataframe:"
   ]
  },
  {
   "cell_type": "code",
   "execution_count": 6,
   "metadata": {},
   "outputs": [
    {
     "data": {
      "text/html": [
       "<div>\n",
       "<style scoped>\n",
       "    .dataframe tbody tr th:only-of-type {\n",
       "        vertical-align: middle;\n",
       "    }\n",
       "\n",
       "    .dataframe tbody tr th {\n",
       "        vertical-align: top;\n",
       "    }\n",
       "\n",
       "    .dataframe thead th {\n",
       "        text-align: right;\n",
       "    }\n",
       "</style>\n",
       "<table border=\"1\" class=\"dataframe\">\n",
       "  <thead>\n",
       "    <tr style=\"text-align: right;\">\n",
       "      <th></th>\n",
       "      <th>price</th>\n",
       "      <th>type</th>\n",
       "      <th>address</th>\n",
       "      <th>url</th>\n",
       "      <th>agent_url</th>\n",
       "      <th>postcode</th>\n",
       "      <th>number_bedrooms</th>\n",
       "      <th>search_date</th>\n",
       "    </tr>\n",
       "  </thead>\n",
       "  <tbody>\n",
       "    <tr>\n",
       "      <td>11</td>\n",
       "      <td>4983</td>\n",
       "      <td>3 bedroom flat</td>\n",
       "      <td>Valetta House, 336 Queenstown Road, London, SW11</td>\n",
       "      <td>http://www.rightmove.co.uk/property-to-rent/pr...</td>\n",
       "      <td>http://www.rightmove.co.uk/estate-agents/agent...</td>\n",
       "      <td>SW11</td>\n",
       "      <td>3</td>\n",
       "      <td>2019-10-07 21:18:53.316475</td>\n",
       "    </tr>\n",
       "    <tr>\n",
       "      <td>12</td>\n",
       "      <td>1950</td>\n",
       "      <td>Studio apartment</td>\n",
       "      <td>#4662, Pearce House, 8 Circus Road West, Batte...</td>\n",
       "      <td>http://www.rightmove.co.uk/property-to-rent/pr...</td>\n",
       "      <td>http://www.rightmove.co.uk/estate-agents/agent...</td>\n",
       "      <td>NaN</td>\n",
       "      <td>0</td>\n",
       "      <td>2019-10-07 21:18:53.316475</td>\n",
       "    </tr>\n",
       "    <tr>\n",
       "      <td>13</td>\n",
       "      <td>2817</td>\n",
       "      <td>2 bedroom apartment</td>\n",
       "      <td>#4474, Pearce House, 8 Circus Road West, Batte...</td>\n",
       "      <td>http://www.rightmove.co.uk/property-to-rent/pr...</td>\n",
       "      <td>http://www.rightmove.co.uk/estate-agents/agent...</td>\n",
       "      <td>NaN</td>\n",
       "      <td>2</td>\n",
       "      <td>2019-10-07 21:18:53.316475</td>\n",
       "    </tr>\n",
       "    <tr>\n",
       "      <td>14</td>\n",
       "      <td>3684</td>\n",
       "      <td>2 bedroom flat</td>\n",
       "      <td>Aurora Gardens, Wandsworth, London, SW11</td>\n",
       "      <td>http://www.rightmove.co.uk/property-to-rent/pr...</td>\n",
       "      <td>http://www.rightmove.co.uk/estate-agents/agent...</td>\n",
       "      <td>SW11</td>\n",
       "      <td>2</td>\n",
       "      <td>2019-10-07 21:18:53.316475</td>\n",
       "    </tr>\n",
       "    <tr>\n",
       "      <td>15</td>\n",
       "      <td>3140</td>\n",
       "      <td>2 bedroom apartment</td>\n",
       "      <td>Circus Road West, Nine Elms, SW11</td>\n",
       "      <td>http://www.rightmove.co.uk/property-to-rent/pr...</td>\n",
       "      <td>http://www.rightmove.co.uk/estate-agents/agent...</td>\n",
       "      <td>SW11</td>\n",
       "      <td>2</td>\n",
       "      <td>2019-10-07 21:18:53.316475</td>\n",
       "    </tr>\n",
       "  </tbody>\n",
       "</table>\n",
       "</div>"
      ],
      "text/plain": [
       "    price                 type  \\\n",
       "11   4983       3 bedroom flat   \n",
       "12   1950     Studio apartment   \n",
       "13   2817  2 bedroom apartment   \n",
       "14   3684       2 bedroom flat   \n",
       "15   3140  2 bedroom apartment   \n",
       "\n",
       "                                              address  \\\n",
       "11   Valetta House, 336 Queenstown Road, London, SW11   \n",
       "12  #4662, Pearce House, 8 Circus Road West, Batte...   \n",
       "13  #4474, Pearce House, 8 Circus Road West, Batte...   \n",
       "14           Aurora Gardens, Wandsworth, London, SW11   \n",
       "15                  Circus Road West, Nine Elms, SW11   \n",
       "\n",
       "                                                  url  \\\n",
       "11  http://www.rightmove.co.uk/property-to-rent/pr...   \n",
       "12  http://www.rightmove.co.uk/property-to-rent/pr...   \n",
       "13  http://www.rightmove.co.uk/property-to-rent/pr...   \n",
       "14  http://www.rightmove.co.uk/property-to-rent/pr...   \n",
       "15  http://www.rightmove.co.uk/property-to-rent/pr...   \n",
       "\n",
       "                                            agent_url postcode  \\\n",
       "11  http://www.rightmove.co.uk/estate-agents/agent...     SW11   \n",
       "12  http://www.rightmove.co.uk/estate-agents/agent...      NaN   \n",
       "13  http://www.rightmove.co.uk/estate-agents/agent...      NaN   \n",
       "14  http://www.rightmove.co.uk/estate-agents/agent...     SW11   \n",
       "15  http://www.rightmove.co.uk/estate-agents/agent...     SW11   \n",
       "\n",
       "    number_bedrooms                search_date  \n",
       "11                3 2019-10-07 21:18:53.316475  \n",
       "12                0 2019-10-07 21:18:53.316475  \n",
       "13                2 2019-10-07 21:18:53.316475  \n",
       "14                2 2019-10-07 21:18:53.316475  \n",
       "15                2 2019-10-07 21:18:53.316475  "
      ]
     },
     "execution_count": 6,
     "metadata": {},
     "output_type": "execute_result"
    }
   ],
   "source": [
    "rmd.get_results.tail()"
   ]
  }
 ],
 "metadata": {
  "kernelspec": {
   "display_name": "Python 3",
   "language": "python",
   "name": "python3"
  },
  "language_info": {
   "codemirror_mode": {
    "name": "ipython",
    "version": 3
   },
   "file_extension": ".py",
   "mimetype": "text/x-python",
   "name": "python",
   "nbconvert_exporter": "python",
   "pygments_lexer": "ipython3",
   "version": "3.6.2"
  }
 },
 "nbformat": 4,
 "nbformat_minor": 1
}
